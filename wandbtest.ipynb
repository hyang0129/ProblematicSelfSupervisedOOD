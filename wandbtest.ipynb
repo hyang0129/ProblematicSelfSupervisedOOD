{
 "cells": [
  {
   "cell_type": "code",
   "id": "initial_id",
   "metadata": {
    "collapsed": true,
    "ExecuteTime": {
     "end_time": "2024-07-16T20:49:20.677043Z",
     "start_time": "2024-07-16T20:49:20.672530Z"
    }
   },
   "source": [
    "\n",
    "%%capture\n",
    "\n",
    "        \n",
    "        "
   ],
   "outputs": [],
   "execution_count": 7
  },
  {
   "metadata": {
    "ExecuteTime": {
     "end_time": "2024-07-16T20:49:52.882594Z",
     "start_time": "2024-07-16T20:49:46.913881Z"
    }
   },
   "cell_type": "code",
   "source": [
    "\n",
    "import wandb \n",
    "\n",
    "\n",
    "wandb.login(key='faac1ab63cb2208d0e2c146c66a8f2b0f1543212')\n",
    "\n",
    "\n",
    "run = wandb.init(project='unsuper',\n",
    "           name='testing5',\n",
    "           save_code=True)\n",
    "\n",
    "with run:\n",
    "    # for step in range(100):\n",
    "    #     # insert training process here\n",
    "    #     wandb.log({'info' : 1})\n",
    "    #     \n",
    "    #     print('testing stuff ')\n",
    "    #     \n",
    "        \n",
    "    !python test.py"
   ],
   "id": "55403b9a0e8ab828",
   "outputs": [
    {
     "name": "stderr",
     "output_type": "stream",
     "text": [
      "wandb: WARNING If you're specifying your api key in code, ensure this code is not shared publicly.\n",
      "wandb: WARNING Consider setting the WANDB_API_KEY environment variable, or running `wandb login` from the command line.\n",
      "wandb: Appending key for api.wandb.ai to your netrc file: C:\\Users\\HongM\\_netrc\n"
     ]
    },
    {
     "data": {
      "text/plain": [
       "<IPython.core.display.HTML object>"
      ],
      "text/html": [
       "Tracking run with wandb version 0.17.4"
      ]
     },
     "metadata": {},
     "output_type": "display_data"
    },
    {
     "data": {
      "text/plain": [
       "<IPython.core.display.HTML object>"
      ],
      "text/html": [
       "Run data is saved locally in <code>C:\\Users\\HongM\\PycharmProjects\\ProblematicSelfSupervisedOOD\\wandb\\run-20240716_164947-nydqtpfh</code>"
      ]
     },
     "metadata": {},
     "output_type": "display_data"
    },
    {
     "data": {
      "text/plain": [
       "<IPython.core.display.HTML object>"
      ],
      "text/html": [
       "Syncing run <strong><a href='https://wandb.ai/hy3134-rochester-institute-of-technology/unsuper/runs/nydqtpfh' target=\"_blank\">testing5</a></strong> to <a href='https://wandb.ai/hy3134-rochester-institute-of-technology/unsuper' target=\"_blank\">Weights & Biases</a> (<a href='https://wandb.me/run' target=\"_blank\">docs</a>)<br/>"
      ]
     },
     "metadata": {},
     "output_type": "display_data"
    },
    {
     "data": {
      "text/plain": [
       "<IPython.core.display.HTML object>"
      ],
      "text/html": [
       " View project at <a href='https://wandb.ai/hy3134-rochester-institute-of-technology/unsuper' target=\"_blank\">https://wandb.ai/hy3134-rochester-institute-of-technology/unsuper</a>"
      ]
     },
     "metadata": {},
     "output_type": "display_data"
    },
    {
     "data": {
      "text/plain": [
       "<IPython.core.display.HTML object>"
      ],
      "text/html": [
       " View run at <a href='https://wandb.ai/hy3134-rochester-institute-of-technology/unsuper/runs/nydqtpfh' target=\"_blank\">https://wandb.ai/hy3134-rochester-institute-of-technology/unsuper/runs/nydqtpfh</a>"
      ]
     },
     "metadata": {},
     "output_type": "display_data"
    },
    {
     "name": "stdout",
     "output_type": "stream",
     "text": [
      "terminal testing\n"
     ]
    },
    {
     "data": {
      "text/plain": [
       "VBox(children=(Label(value='0.053 MB of 0.053 MB uploaded (0.004 MB deduped)\\r'), FloatProgress(value=1.0, max…"
      ],
      "application/vnd.jupyter.widget-view+json": {
       "version_major": 2,
       "version_minor": 0,
       "model_id": "f3c6972eed8b4903986a84494b8fae62"
      }
     },
     "metadata": {},
     "output_type": "display_data"
    },
    {
     "data": {
      "text/plain": [
       "<IPython.core.display.HTML object>"
      ],
      "text/html": [
       "W&B sync reduced upload amount by 8.2%             "
      ]
     },
     "metadata": {},
     "output_type": "display_data"
    },
    {
     "data": {
      "text/plain": [
       "<IPython.core.display.HTML object>"
      ],
      "text/html": [
       " View run <strong style=\"color:#cdcd00\">testing5</strong> at: <a href='https://wandb.ai/hy3134-rochester-institute-of-technology/unsuper/runs/nydqtpfh' target=\"_blank\">https://wandb.ai/hy3134-rochester-institute-of-technology/unsuper/runs/nydqtpfh</a><br/> View project at: <a href='https://wandb.ai/hy3134-rochester-institute-of-technology/unsuper' target=\"_blank\">https://wandb.ai/hy3134-rochester-institute-of-technology/unsuper</a><br/>Synced 6 W&B file(s), 0 media file(s), 5 artifact file(s) and 1 other file(s)"
      ]
     },
     "metadata": {},
     "output_type": "display_data"
    },
    {
     "data": {
      "text/plain": [
       "<IPython.core.display.HTML object>"
      ],
      "text/html": [
       "Find logs at: <code>.\\wandb\\run-20240716_164947-nydqtpfh\\logs</code>"
      ]
     },
     "metadata": {},
     "output_type": "display_data"
    },
    {
     "data": {
      "text/plain": [
       "<IPython.core.display.HTML object>"
      ],
      "text/html": [
       "The new W&B backend becomes opt-out in version 0.18.0; try it out with `wandb.require(\"core\")`! See https://wandb.me/wandb-core for more information."
      ]
     },
     "metadata": {},
     "output_type": "display_data"
    }
   ],
   "execution_count": 10
  },
  {
   "metadata": {
    "ExecuteTime": {
     "end_time": "2024-07-16T20:49:27.721538Z",
     "start_time": "2024-07-16T20:49:27.378831Z"
    }
   },
   "cell_type": "code",
   "source": [
    "\n",
    "!test.py"
   ],
   "id": "5ad91b769621125d",
   "outputs": [
    {
     "name": "stdout",
     "output_type": "stream",
     "text": [
      "terminal testing\n"
     ]
    }
   ],
   "execution_count": 9
  }
 ],
 "metadata": {
  "kernelspec": {
   "display_name": "Python 3",
   "language": "python",
   "name": "python3"
  },
  "language_info": {
   "codemirror_mode": {
    "name": "ipython",
    "version": 2
   },
   "file_extension": ".py",
   "mimetype": "text/x-python",
   "name": "python",
   "nbconvert_exporter": "python",
   "pygments_lexer": "ipython2",
   "version": "2.7.6"
  }
 },
 "nbformat": 4,
 "nbformat_minor": 5
}
