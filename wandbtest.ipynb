{
 "cells": [
  {
   "cell_type": "code",
   "id": "initial_id",
   "metadata": {
    "collapsed": true,
    "ExecuteTime": {
     "end_time": "2024-09-27T17:33:44.308905Z",
     "start_time": "2024-09-27T17:33:44.269908Z"
    }
   },
   "source": [
    "\n",
    "import pandas as pd \n",
    "\n",
    "\n",
    "# df = pd.read_csv('Image_Labels_Subset_Train_GCC-Labels-training.tsv')\n",
    "# \n",
    "#         \n",
    "        \n",
    "        \n",
    "with open('Image_Labels_Subset_Train_GCC-Labels-training.tsv', encoding=\"utf8\") as f:\n",
    "    \n",
    "    i = 0\n",
    "    while line := f.readline():\n",
    "        \n",
    "\n",
    "        if ('pizza') in line:\n",
    "            print(line.rstrip())\n",
    "            i += 1 \n",
    "            \n",
    "        if i > 10:\n",
    "            break\n",
    "        \n",
    "        \n",
    "    "
   ],
   "outputs": [
    {
     "name": "stdout",
     "output_type": "stream",
     "text": [
      "grabbing a slice of pizza isolated over white\thttps://image.shutterstock.com/z/stock-photo-grabbing-a-slice-of-pizza-isolated-over-white-80281282.jpg\tdish,food,cuisine,ingredient,fast food,flatbread,pizza,junk food,produce,meat,sfiha,italian food,pizza cheese,baked goods,american food\t/m/02q08p0,/m/02wbm,/m/01ykh,/m/07xgrh,/m/01_bhs,/m/07hr9x,/m/0663v,/m/0h55b,/m/036qh8,/m/04scj,/m/02rgjnz,/m/09y2k2,/m/068_x,/m/052lwg6,/m/01z1jf2\t0.9934034943580627,0.9903261065483093,0.9864208102226257,0.9207317233085632,0.8721309900283813,0.8617874979972839,0.8588109612464905,0.8344331383705139,0.7814560532569885,0.7302811741828918,0.7200795412063599,0.7106450796127319,0.683983564376831,0.6737092733383179,0.6536866426467896\n",
      "pizza dough is worked by hand , ever - expanding the edges\thttps://www.gannett-cdn.com/-mm-/d6e4ed1eacf5dc24e83b70822abf1121fd25ab1e/c=3-0-2046-1536&r=x408&c=540x405/local/-/media/2017/09/05/Visalia/Visalia/636402139666604892-pizza2.jpg\tdough,hand,flour,masa,food,cuisine\t/m/01x9mn,/m/0k65p,/m/0fkw3,/m/02tvmk,/m/02wbm,/m/01ykh\t0.9578171968460083,0.7399766445159912,0.6744371652603149,0.5624783039093018,0.551247239112854,0.5368420481681824\n",
      "pizza with salami , cheese and cucumber on a white\thttps://thumb1.shutterstock.com/display_pic_with_logo/172374558/688395718/stock-photo-pizza-with-salami-cheese-and-cucumber-on-a-white-688395718.jpg\tsausage,pepperoni,salami,food,meat,cuisine,salt-cured meat,dish,capicola,ingredient,fuet,salchichón,italian food,mortadella,genoa salami\t/m/0kdzn,/m/018dy5,/m/018dz0,/m/02wbm,/m/04scj,/m/01ykh,/m/047kbm,/m/02q08p0,/m/04c9vm,/m/07xgrh,/m/020lsx,/m/0x1y1w8,/m/09y2k2,/m/0c6lc,/m/0cjmb8\t0.9810836911201477,0.9769013524055481,0.9637023210525513,0.9618949294090271,0.9409780502319336,0.9185442328453064,0.8761703968048096,0.8411533236503601,0.8201327323913574,0.7670096158981323,0.76347416639328,0.6960360407829285,0.6882559657096863,0.676110565662384,0.6572157740592957\n",
      "young woman looking at a pizza and drooling over , isolated on white\thttps://image.shutterstock.com/z/stock-photo-young-woman-looking-at-a-pizza-and-drooling-over-isolated-on-white-260606825.jpg\tpizza,food,pepperoni,dish,pizza cheese,junk food,cuisine,eating,fast food,ingredient,italian food,pizza cutter,take-out food,flatbread,quiche\t/m/0663v,/m/02wbm,/m/018dy5,/m/02q08p0,/m/068_x,/m/0h55b,/m/01ykh,/m/01f5gx,/m/01_bhs,/m/07xgrh,/m/09y2k2,/m/08ks85,/m/01w53b,/m/07hr9x,/m/01f79n\t0.9778032302856445,0.9734369516372681,0.9578484296798706,0.9539156556129456,0.951855480670929,0.9504569172859192,0.9447744488716125,0.9364473223686218,0.9206725358963013,0.8804892897605896,0.8443141579627991,0.8120140433311462,0.7914249300956726,0.7802265286445618,0.6741020083427429\n",
      "business , which recently opened is a fast pizza - making restaurant but an even faster hit .\thttps://i1.wp.com/www.hcdevilsadvocate.com/wp-content/uploads/2017/08/unnamed.jpg?fit=964%2C723&ssl=1\tbuilding,interior design,lighting,architecture,table,retail,furniture,ceiling,restaurant,café,outlet store,coffeehouse,night\t/m/0cgh4,/m/02rfdq,/m/019sc6,/m/03nfmq,/m/04bcr3,/m/0191_7,/m/0c_jw,/m/03gfsp,/m/06l8d,/m/025s4nn,/m/09bgkl,/m/020fb2,/m/01d74z\t0.9525967240333557,0.8973785638809204,0.8283119797706604,0.6545118689537048,0.6379098296165466,0.63176429271698,0.6148442625999451,0.601280927658081,0.5981817841529846,0.5852164030075073,0.5729023218154907,0.5448489785194397,0.5393705368041992\n",
      "from pizza to tacos and from soup to skewers , here are recipes where pork is the star !\thttp://media.cookingandbeer.com/porkrecipes3.jpg\tdish,food,cuisine,ingredient,meal,produce,recipe,comfort food,superfood,vegetable,lunch,brunch,breakfast,side dish\t/m/02q08p0,/m/02wbm,/m/01ykh,/m/07xgrh,/m/0krfg,/m/036qh8,/m/0p57p,/m/04q6ng,/m/04jdhxy,/m/0f4s2w,/m/0jfd5,/m/0dw_m,/m/0hz4q,/m/07l8p5\t0.9934034943580627,0.9903261065483093,0.9349826574325562,0.9207317233085632,0.8152838945388794,0.7814560532569885,0.6650445461273193,0.6493460536003113,0.6333631873130798,0.6195283532142639,0.5970089435577393,0.5651873350143433,0.5589315891265869,0.5311752557754517\n",
      "i burnt the roof of my mouth on pizza :(\thttp://cdn-webimages.wimages.net/0524db31a454f9764bf4c9cd0dc81888df5952-v5-wm.jpg?v=3\tdish,food,pepperoni,cuisine,ingredient,pizza,pizza cheese,italian food,junk food,sausage,recipe,meat,american food,fast food,produce\t/m/02q08p0,/m/02wbm,/m/018dy5,/m/01ykh,/m/07xgrh,/m/0663v,/m/068_x,/m/09y2k2,/m/0h55b,/m/0kdzn,/m/0p57p,/m/04scj,/m/01z1jf2,/m/01_bhs,/m/036qh8\t0.9629323482513428,0.9541228413581848,0.9511147141456604,0.9282547831535339,0.9207317233085632,0.913154125213623,0.7702250480651855,0.7498659491539001,0.7004650831222534,0.7001315355300903,0.6961517333984375,0.68682461977005,0.6309999227523804,0.621756374835968,0.5807656049728394\n",
      "pizza at prices that both locals and visitors can afford .\thttps://c8.staticflickr.com/1/326/30703431183_5e16c00dc4_o.jpg\tdish,food,cuisine,ingredient,pizza,pizza cheese,california-style pizza,comfort food,italian food,produce,meat,recipe,parmigiana,brunch,quiche\t/m/02q08p0,/m/02wbm,/m/01ykh,/m/07xgrh,/m/0663v,/m/068_x,/m/06wypr,/m/04q6ng,/m/09y2k2,/m/036qh8,/m/04scj,/m/0p57p,/m/085fdt,/m/0dw_m,/m/01f79n\t0.9934034943580627,0.9903261065483093,0.9864208102226257,0.9207317233085632,0.8936275839805603,0.8522642254829407,0.8240004181861877,0.8058419823646545,0.7818731665611267,0.7814560532569885,0.7628812193870544,0.7437441349029541,0.7289962768554688,0.6879097819328308,0.6835771203041077\n",
      "i burned my mouth on my pizza and i feel this is a strong metaphor showing me that the ones we love can hurt us the most .\thttp://cdn-webimages.wimages.net/0514ca877c46de571358f9a6ab8f07995e5bf8-wm.jpg?v=3\tdish,food,cuisine,ingredient,pizza,meat,italian food,pizza cheese,junk food,sicilian pizza,pepperoni,recipe,flatbread,california-style pizza,american food\t/m/02q08p0,/m/02wbm,/m/01ykh,/m/07xgrh,/m/0663v,/m/04scj,/m/09y2k2,/m/068_x,/m/0h55b,/m/09yjm8,/m/018dy5,/m/0p57p,/m/07hr9x,/m/06wypr,/m/01z1jf2\t0.9934034943580627,0.9903261065483093,0.9864208102226257,0.9207317233085632,0.8773831725120544,0.8310555815696716,0.8028748631477356,0.7678403258323669,0.7646977305412292,0.7008622884750366,0.6981350183486938,0.6961517333984375,0.6646075248718262,0.632191002368927,0.5989187955856323\n",
      "pizza on a brown background\thttps://thumb9.shutterstock.com/display_pic_with_logo/924011/192263906/stock-photo-italian-pizza-on-a-brown-background-192263906.jpg\tdish,food,cuisine,ingredient,pizza cheese,pizza,garnish,tomato,produce,flatbread,staple food,pizza cutter,vegetable,fast food,tomato omelette\t/m/02q08p0,/m/02wbm,/m/01ykh,/m/07xgrh,/m/068_x,/m/0663v,/m/06gpzn,/m/07j87,/m/036qh8,/m/07hr9x,/m/022tld,/m/08ks85,/m/0f4s2w,/m/01_bhs,/m/05b_5tn\t0.9934034943580627,0.9903261065483093,0.9864208102226257,0.9207317233085632,0.9030187726020813,0.8353047966957092,0.8197667598724365,0.8046968579292297,0.7814560532569885,0.7722318172454834,0.7494956851005554,0.7370038628578186,0.7244728207588196,0.6874750852584839,0.6666666865348816\n",
      "young girl in a chef hat smiling and holding a pizza\thttps://media.istockphoto.com/photos/young-girl-in-a-chef-hat-smiling-and-holding-a-pizza-picture-id462569545?k=6&m=462569545&s=612x612&w=0&h=zgXsu8PWRJ8Yv6jDR_vP5fP-ESl0qcfSm5t8o6Bb5Tc=\tchild,food,junk food,pizza,bonnet,headgear,cuisine,cap,dish,pepperoni,eating,beanie,american food,party supply,pizza cheese\t/m/0ytgt,/m/02wbm,/m/0h55b,/m/0663v,/m/02h99d,/m/01443y,/m/01ykh,/m/02d46y,/m/02q08p0,/m/018dy5,/m/01f5gx,/m/02gw_5,/m/01z1jf2,/m/0cmqr_4,/m/068_x\t0.9060492515563965,0.8575732111930847,0.8554815649986267,0.8145915865898132,0.7889786958694458,0.7504847645759583,0.6842952370643616,0.6623753309249878,0.6574486494064331,0.6378327012062073,0.5883023142814636,0.586726188659668,0.5854348540306091,0.580647349357605,0.5756447911262512\n"
     ]
    }
   ],
   "execution_count": 20
  },
  {
   "metadata": {},
   "cell_type": "code",
   "outputs": [],
   "execution_count": null,
   "source": "",
   "id": "c4971ac9e73e86be"
  },
  {
   "metadata": {
    "ExecuteTime": {
     "end_time": "2024-07-16T20:49:52.882594Z",
     "start_time": "2024-07-16T20:49:46.913881Z"
    }
   },
   "cell_type": "code",
   "source": [
    "\n",
    "import wandb \n",
    "\n",
    "\n",
    "wandb.login(key='faac1ab63cb2208d0e2c146c66a8f2b0f1543212')\n",
    "\n",
    "\n",
    "run = wandb.init(project='unsuper',\n",
    "           name='testing5',\n",
    "           save_code=True)\n",
    "\n",
    "with run:\n",
    "    # for step in range(100):\n",
    "    #     # insert training process here\n",
    "    #     wandb.log({'info' : 1})\n",
    "    #     \n",
    "    #     print('testing stuff ')\n",
    "    #     \n",
    "        \n",
    "    !python test.py"
   ],
   "id": "55403b9a0e8ab828",
   "outputs": [
    {
     "name": "stderr",
     "output_type": "stream",
     "text": [
      "wandb: WARNING If you're specifying your api key in code, ensure this code is not shared publicly.\n",
      "wandb: WARNING Consider setting the WANDB_API_KEY environment variable, or running `wandb login` from the command line.\n",
      "wandb: Appending key for api.wandb.ai to your netrc file: C:\\Users\\HongM\\_netrc\n"
     ]
    },
    {
     "data": {
      "text/plain": [
       "<IPython.core.display.HTML object>"
      ],
      "text/html": [
       "Tracking run with wandb version 0.17.4"
      ]
     },
     "metadata": {},
     "output_type": "display_data"
    },
    {
     "data": {
      "text/plain": [
       "<IPython.core.display.HTML object>"
      ],
      "text/html": [
       "Run data is saved locally in <code>C:\\Users\\HongM\\PycharmProjects\\ProblematicSelfSupervisedOOD\\wandb\\run-20240716_164947-nydqtpfh</code>"
      ]
     },
     "metadata": {},
     "output_type": "display_data"
    },
    {
     "data": {
      "text/plain": [
       "<IPython.core.display.HTML object>"
      ],
      "text/html": [
       "Syncing run <strong><a href='https://wandb.ai/hy3134-rochester-institute-of-technology/unsuper/runs/nydqtpfh' target=\"_blank\">testing5</a></strong> to <a href='https://wandb.ai/hy3134-rochester-institute-of-technology/unsuper' target=\"_blank\">Weights & Biases</a> (<a href='https://wandb.me/run' target=\"_blank\">docs</a>)<br/>"
      ]
     },
     "metadata": {},
     "output_type": "display_data"
    },
    {
     "data": {
      "text/plain": [
       "<IPython.core.display.HTML object>"
      ],
      "text/html": [
       " View project at <a href='https://wandb.ai/hy3134-rochester-institute-of-technology/unsuper' target=\"_blank\">https://wandb.ai/hy3134-rochester-institute-of-technology/unsuper</a>"
      ]
     },
     "metadata": {},
     "output_type": "display_data"
    },
    {
     "data": {
      "text/plain": [
       "<IPython.core.display.HTML object>"
      ],
      "text/html": [
       " View run at <a href='https://wandb.ai/hy3134-rochester-institute-of-technology/unsuper/runs/nydqtpfh' target=\"_blank\">https://wandb.ai/hy3134-rochester-institute-of-technology/unsuper/runs/nydqtpfh</a>"
      ]
     },
     "metadata": {},
     "output_type": "display_data"
    },
    {
     "name": "stdout",
     "output_type": "stream",
     "text": [
      "terminal testing\n"
     ]
    },
    {
     "data": {
      "text/plain": [
       "VBox(children=(Label(value='0.053 MB of 0.053 MB uploaded (0.004 MB deduped)\\r'), FloatProgress(value=1.0, max…"
      ],
      "application/vnd.jupyter.widget-view+json": {
       "version_major": 2,
       "version_minor": 0,
       "model_id": "f3c6972eed8b4903986a84494b8fae62"
      }
     },
     "metadata": {},
     "output_type": "display_data"
    },
    {
     "data": {
      "text/plain": [
       "<IPython.core.display.HTML object>"
      ],
      "text/html": [
       "W&B sync reduced upload amount by 8.2%             "
      ]
     },
     "metadata": {},
     "output_type": "display_data"
    },
    {
     "data": {
      "text/plain": [
       "<IPython.core.display.HTML object>"
      ],
      "text/html": [
       " View run <strong style=\"color:#cdcd00\">testing5</strong> at: <a href='https://wandb.ai/hy3134-rochester-institute-of-technology/unsuper/runs/nydqtpfh' target=\"_blank\">https://wandb.ai/hy3134-rochester-institute-of-technology/unsuper/runs/nydqtpfh</a><br/> View project at: <a href='https://wandb.ai/hy3134-rochester-institute-of-technology/unsuper' target=\"_blank\">https://wandb.ai/hy3134-rochester-institute-of-technology/unsuper</a><br/>Synced 6 W&B file(s), 0 media file(s), 5 artifact file(s) and 1 other file(s)"
      ]
     },
     "metadata": {},
     "output_type": "display_data"
    },
    {
     "data": {
      "text/plain": [
       "<IPython.core.display.HTML object>"
      ],
      "text/html": [
       "Find logs at: <code>.\\wandb\\run-20240716_164947-nydqtpfh\\logs</code>"
      ]
     },
     "metadata": {},
     "output_type": "display_data"
    },
    {
     "data": {
      "text/plain": [
       "<IPython.core.display.HTML object>"
      ],
      "text/html": [
       "The new W&B backend becomes opt-out in version 0.18.0; try it out with `wandb.require(\"core\")`! See https://wandb.me/wandb-core for more information."
      ]
     },
     "metadata": {},
     "output_type": "display_data"
    }
   ],
   "execution_count": 10
  },
  {
   "metadata": {
    "ExecuteTime": {
     "end_time": "2024-07-16T20:49:27.721538Z",
     "start_time": "2024-07-16T20:49:27.378831Z"
    }
   },
   "cell_type": "code",
   "source": [
    "\n",
    "!test.py"
   ],
   "id": "5ad91b769621125d",
   "outputs": [
    {
     "name": "stdout",
     "output_type": "stream",
     "text": [
      "terminal testing\n"
     ]
    }
   ],
   "execution_count": 9
  }
 ],
 "metadata": {
  "kernelspec": {
   "display_name": "Python 3",
   "language": "python",
   "name": "python3"
  },
  "language_info": {
   "codemirror_mode": {
    "name": "ipython",
    "version": 2
   },
   "file_extension": ".py",
   "mimetype": "text/x-python",
   "name": "python",
   "nbconvert_exporter": "python",
   "pygments_lexer": "ipython2",
   "version": "2.7.6"
  }
 },
 "nbformat": 4,
 "nbformat_minor": 5
}
