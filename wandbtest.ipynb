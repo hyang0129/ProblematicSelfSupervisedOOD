{
 "cells": [
  {
   "cell_type": "code",
   "id": "initial_id",
   "metadata": {
    "collapsed": true,
    "ExecuteTime": {
     "end_time": "2024-09-16T15:18:46.942240Z",
     "start_time": "2024-09-16T15:18:46.788959Z"
    }
   },
   "source": [
    "\n",
    "import pandas as pd \n",
    "\n",
    "\n",
    "# df = pd.read_csv('Image_Labels_Subset_Train_GCC-Labels-training.tsv')\n",
    "# \n",
    "#         \n",
    "        \n",
    "        \n",
    "with open('Image_Labels_Subset_Train_GCC-Labels-training.tsv', encoding=\"utf8\") as f:\n",
    "    \n",
    "    i = 0\n",
    "    while line := f.readline():\n",
    "        \n",
    "\n",
    "        if ('tesla') in line:\n",
    "            print(line.rstrip())\n",
    "            i += 1 \n",
    "            \n",
    "        if i > 10:\n",
    "            break\n",
    "        \n",
    "        \n",
    "    "
   ],
   "outputs": [
    {
     "name": "stdout",
     "output_type": "stream",
     "text": [
      "event bringing automobile models to billionaire 's row\thttps://static1.squarespace.com/static/58d2e8b7893fc0d3d1ce9388/t/599c1f7eebbd1a90cffc5949/1503404516338/Tesla+%26+SOM%27s+252+East+57th+Host+Experimental+Event+Bringing+the+Model+S+and+Model+X+to+Billionaire%27s+Row?format=750w\tland vehicle,vehicle,car,motor vehicle,automotive design,city car,compact car,tesla,family car,crossover suv,subcompact car,tesla model s,hot hatch,hatchback,electric car\t/m/01prls,/m/07yv9,/m/0k4j,/m/012f08,/m/068mqj,/m/0369ss,/m/02swz_,/m/0j6n6s8,/m/088l6h,/m/03p66g,/m/03txxp,/m/04cylkl,/m/0215_s,/m/01cmcs,/m/03nlf2w\t0.9961627125740051,0.9903031587600708,0.9870125651359558,0.9743772745132446,0.9383293986320496,0.7721379399299622,0.6582570672035217,0.6527502536773682,0.6473882794380188,0.6399707198143005,0.6190866827964783,0.6117153763771057,0.5629364252090454,0.5557801127433777,0.5520032644271851\n",
      "in a bid to go green , makers of reserve all - electric trucks\thttps://img.etimg.com/photo/61974184/teslasemi.jpg\ttransport,motor vehicle,mode of transport,vehicle,commercial vehicle,car,automotive design,public transport,rv,automotive exterior,road,automotive wheel system,freight transport,truck,highway\t/m/07bsy,/m/012f08,/m/079bkr,/m/07yv9,/m/0fkwjg,/m/0k4j,/m/068mqj,/m/05zdp,/m/01lgkm,/m/0h8ls87,/m/06gfj,/m/0h8ly30,/m/070qm,/m/07r04,/m/0cz_0\t0.9851767420768738,0.9783723950386047,0.9709598422050476,0.963193953037262,0.8870270848274231,0.8588199615478516,0.8215083479881287,0.7634984254837036,0.7609272599220276,0.7311965227127075,0.6542643904685974,0.6540399193763733,0.6244456171989441,0.5959025025367737,0.5818116068840027\n",
      "model s full electric engine on a chassis\thttps://media.gettyimages.com/photos/tesla-model-s-full-electric-engine-on-a-chassis-picture-id494184940?s=612x612\tengine,automotive design,machine,architecture,vehicle,space,auto part,automotive engine part,engineering,auto show,metal\t/m/02mk9,/m/068mqj,/m/0dkw5,/m/03nfmq,/m/07yv9,/m/06wqb,/m/08dz3q,/m/0h8lsgn,/m/02ky346,/m/03y_qy,/m/04t7l\t0.8522887825965881,0.7228396534919739,0.6652406454086304,0.6545118689537048,0.6301758885383606,0.6132692098617554,0.6117739677429199,0.5582679510116577,0.5201485753059387,0.5175845623016357,0.5114516019821167\n",
      "cars parked by a charging station behind the building\thttps://media-cdn.tripadvisor.com/media/photo-s/10/dc/e4/15/tesla-cars-parked-by.jpg\tbuilding,vehicle,architecture,car,street\t/m/0cgh4,/m/07yv9,/m/03nfmq,/m/0k4j,/m/01c8br\t0.8856726884841919,0.6611334085464478,0.6545118689537048,0.6146898865699768,0.5113697648048401\n",
      "view from the driver 's seat of a car as it approaches a garage .\thttps://spectrum.ieee.org/image/MjcwODg5OQ.jpeg\tland vehicle,vehicle,car,tesla model s,tesla,automotive design,steering wheel,technology,mid-size car,family car,multimedia,driving,mitsubishi outlander\t/m/01prls,/m/07yv9,/m/0k4j,/m/04cylkl,/m/0j6n6s8,/m/068mqj,/m/03b6_4,/m/07c1v,/m/03vnt4,/m/088l6h,/m/0541p,/m/0kw6d,/m/04pj2g\t0.9961627125740051,0.9903031587600708,0.9870125651359558,0.8835380673408508,0.7879619598388672,0.7228396534919739,0.7043342590332031,0.6757805347442627,0.6713130474090576,0.607322096824646,0.5823066234588623,0.5778226852416992,0.5104354023933411\n",
      "automotive industry business could hardly have hoped for better .\thttps://driveeuropenews.files.wordpress.com/2013/08/br4-g8pccae9dzi.jpg\tland vehicle,vehicle,car,tesla model s,automotive design,tesla,motor vehicle,sedan,electric car,electric vehicle,crossover suv,automotive wheel system,family car,automotive exterior,tesla model x\t/m/01prls,/m/07yv9,/m/0k4j,/m/04cylkl,/m/068mqj,/m/0j6n6s8,/m/012f08,/m/021mp2,/m/03nlf2w,/m/01pmdg,/m/03p66g,/m/0h8ly30,/m/088l6h,/m/0h8ls87,/m/0fq05ym\t0.9961627125740051,0.9903031587600708,0.9870125651359558,0.9713842272758484,0.9201557636260986,0.9121626615524292,0.9010037183761597,0.7439811825752258,0.7217095494270325,0.6829435229301453,0.6561324596405029,0.6540399193763733,0.6301794648170471,0.6286581754684448,0.6176029443740845\n",
      "electric car at a charging station\thttps://www.maxxor.com/blog/wp-content/uploads/2016/04/iStock_000084428863_Small.jpg\tland vehicle,vehicle,car,motor vehicle,automotive design,headlamp,automotive lighting,transport,tesla model s,mode of transport,luxury vehicle,hood,performance car,vehicle door,automotive exterior\t/m/01prls,/m/07yv9,/m/0k4j,/m/012f08,/m/068mqj,/m/0263qm,/m/0768fx,/m/07bsy,/m/04cylkl,/m/079bkr,/m/01lcwm,/m/02df64,/m/06j11d,/m/02q2kc3,/m/0h8ls87\t0.9961627125740051,0.9903031587600708,0.9870125651359558,0.9743772745132446,0.9604920744895935,0.9084450006484985,0.8675581812858582,0.8629129528999329,0.8323392868041992,0.8081701397895813,0.7779097557067871,0.7730758190155029,0.7448928952217102,0.7361813187599182,0.7311965227127075\n",
      "front view of automobile model\thttp://4.bp.blogspot.com/-Jy2-tZR3DRA/VkrHo2I5vxI/AAAAAAAAmWo/NbeMc37AB4c/s1600/tesla-model-s-premium-electric-sedan-showcase-ev-experience-cyberview-event-21.jpg\tland vehicle,vehicle,car,motor vehicle,tesla model s,automotive design,tesla,sedan,performance car,automotive exterior,grille,mid-size car,family car,automotive wheel system,bumper\t/m/01prls,/m/07yv9,/m/0k4j,/m/012f08,/m/04cylkl,/m/068mqj,/m/0j6n6s8,/m/021mp2,/m/06j11d,/m/0h8ls87,/m/03_qhc,/m/03vnt4,/m/088l6h,/m/0h8ly30,/m/02mnkq\t0.9961627125740051,0.9903031587600708,0.9870125651359558,0.9783723950386047,0.92973792552948,0.8866599798202515,0.8319099545478821,0.7832335233688354,0.7448928952217102,0.7311965227127075,0.7204474210739136,0.7170259952545166,0.6976627707481384,0.6540399193763733,0.6143558025360107\n",
      "crystals are living beings at the beginning of creation .\thttps://i.pinimg.com/736x/51/6f/15/516f15c6636b7ffb22fa819086e82f3b--nikola-tesla-frequency.jpg\tamethyst,mineral,organism,fashion accessory,geology,rock,shell,clam,crystal,gemstone,jewellery,bivalve,conch,natural material\t/m/0p7h,/m/04tc_,/m/05nnm,/m/0463sg,/m/036hv,/m/01cbzq,/m/03bwz1j,/m/0ffhy,/m/01t4h,/m/03c4j,/m/0404d,/m/01cqy9,/m/01qk4t,/m/07sx2n\t0.9504955410957336,0.7533482909202576,0.7151590585708618,0.6508980393409729,0.6497763991355896,0.6438128352165222,0.639930009841919,0.6198126077651978,0.6139770746231079,0.5791009664535522,0.5670462250709534,0.5510453581809998,0.5490788817405701,0.505600094795227\n",
      "this model goes to organization leader .\thttp://ww2.hdnux.com/photos/63/27/75/13467469/5/920x1240.jpg\tland vehicle,vehicle,car,automotive design,mid-size car,motor vehicle,tesla model s,tesla,luxury vehicle,executive car,sedan,personal luxury car,full-size car,rim,crossover suv\t/m/01prls,/m/07yv9,/m/0k4j,/m/068mqj,/m/03vnt4,/m/012f08,/m/04cylkl,/m/0j6n6s8,/m/01lcwm,/m/0crtnw,/m/021mp2,/m/01w71f,/m/03vntj,/m/047vmg8,/m/03p66g\t0.9961627125740051,0.9903031587600708,0.9870125651359558,0.9262256622314453,0.9224806427955627,0.9010037183761597,0.8373010754585266,0.8351287245750427,0.8222509622573853,0.8197380304336548,0.7832335233688354,0.7340946197509766,0.7207817435264587,0.708760678768158,0.6887306571006775\n",
      "aerobatic team performs flight at an air show\thttps://www.pacificstatesland.com/wp-content/uploads/2015/10/2-ANTELOPE-VALLEY-93962612-400x400.jpg\tsky,air show,blue,airplane,aerobatics,aircraft,general aviation,aerospace engineering,cloud,vehicle,flight,aviation,air sports,air force,wing\t/m/01bqvp,/m/0117z,/m/01g5v,/m/0cmf2,/m/0hf73,/m/0k5j,/m/039r6,/m/0w7s,/m/0csby,/m/07yv9,/m/01515d,/m/0fzyg,/m/07wpp2,/m/013m1,/m/083s2\t0.9550930857658386,0.948616623878479,0.9445302486419678,0.9122992157936096,0.9082677364349365,0.7779541015625,0.7525429129600525,0.7423667907714844,0.710040271282196,0.6751109957695007,0.6600638031959534,0.6207687258720398,0.6120271682739258,0.5564590692520142,0.5069170594215393\n"
     ]
    }
   ],
   "execution_count": 16
  },
  {
   "metadata": {},
   "cell_type": "code",
   "outputs": [],
   "execution_count": null,
   "source": "",
   "id": "c4971ac9e73e86be"
  },
  {
   "metadata": {
    "ExecuteTime": {
     "end_time": "2024-07-16T20:49:52.882594Z",
     "start_time": "2024-07-16T20:49:46.913881Z"
    }
   },
   "cell_type": "code",
   "source": [
    "\n",
    "import wandb \n",
    "\n",
    "\n",
    "wandb.login(key='faac1ab63cb2208d0e2c146c66a8f2b0f1543212')\n",
    "\n",
    "\n",
    "run = wandb.init(project='unsuper',\n",
    "           name='testing5',\n",
    "           save_code=True)\n",
    "\n",
    "with run:\n",
    "    # for step in range(100):\n",
    "    #     # insert training process here\n",
    "    #     wandb.log({'info' : 1})\n",
    "    #     \n",
    "    #     print('testing stuff ')\n",
    "    #     \n",
    "        \n",
    "    !python test.py"
   ],
   "id": "55403b9a0e8ab828",
   "outputs": [
    {
     "name": "stderr",
     "output_type": "stream",
     "text": [
      "wandb: WARNING If you're specifying your api key in code, ensure this code is not shared publicly.\n",
      "wandb: WARNING Consider setting the WANDB_API_KEY environment variable, or running `wandb login` from the command line.\n",
      "wandb: Appending key for api.wandb.ai to your netrc file: C:\\Users\\HongM\\_netrc\n"
     ]
    },
    {
     "data": {
      "text/plain": [
       "<IPython.core.display.HTML object>"
      ],
      "text/html": [
       "Tracking run with wandb version 0.17.4"
      ]
     },
     "metadata": {},
     "output_type": "display_data"
    },
    {
     "data": {
      "text/plain": [
       "<IPython.core.display.HTML object>"
      ],
      "text/html": [
       "Run data is saved locally in <code>C:\\Users\\HongM\\PycharmProjects\\ProblematicSelfSupervisedOOD\\wandb\\run-20240716_164947-nydqtpfh</code>"
      ]
     },
     "metadata": {},
     "output_type": "display_data"
    },
    {
     "data": {
      "text/plain": [
       "<IPython.core.display.HTML object>"
      ],
      "text/html": [
       "Syncing run <strong><a href='https://wandb.ai/hy3134-rochester-institute-of-technology/unsuper/runs/nydqtpfh' target=\"_blank\">testing5</a></strong> to <a href='https://wandb.ai/hy3134-rochester-institute-of-technology/unsuper' target=\"_blank\">Weights & Biases</a> (<a href='https://wandb.me/run' target=\"_blank\">docs</a>)<br/>"
      ]
     },
     "metadata": {},
     "output_type": "display_data"
    },
    {
     "data": {
      "text/plain": [
       "<IPython.core.display.HTML object>"
      ],
      "text/html": [
       " View project at <a href='https://wandb.ai/hy3134-rochester-institute-of-technology/unsuper' target=\"_blank\">https://wandb.ai/hy3134-rochester-institute-of-technology/unsuper</a>"
      ]
     },
     "metadata": {},
     "output_type": "display_data"
    },
    {
     "data": {
      "text/plain": [
       "<IPython.core.display.HTML object>"
      ],
      "text/html": [
       " View run at <a href='https://wandb.ai/hy3134-rochester-institute-of-technology/unsuper/runs/nydqtpfh' target=\"_blank\">https://wandb.ai/hy3134-rochester-institute-of-technology/unsuper/runs/nydqtpfh</a>"
      ]
     },
     "metadata": {},
     "output_type": "display_data"
    },
    {
     "name": "stdout",
     "output_type": "stream",
     "text": [
      "terminal testing\n"
     ]
    },
    {
     "data": {
      "text/plain": [
       "VBox(children=(Label(value='0.053 MB of 0.053 MB uploaded (0.004 MB deduped)\\r'), FloatProgress(value=1.0, max…"
      ],
      "application/vnd.jupyter.widget-view+json": {
       "version_major": 2,
       "version_minor": 0,
       "model_id": "f3c6972eed8b4903986a84494b8fae62"
      }
     },
     "metadata": {},
     "output_type": "display_data"
    },
    {
     "data": {
      "text/plain": [
       "<IPython.core.display.HTML object>"
      ],
      "text/html": [
       "W&B sync reduced upload amount by 8.2%             "
      ]
     },
     "metadata": {},
     "output_type": "display_data"
    },
    {
     "data": {
      "text/plain": [
       "<IPython.core.display.HTML object>"
      ],
      "text/html": [
       " View run <strong style=\"color:#cdcd00\">testing5</strong> at: <a href='https://wandb.ai/hy3134-rochester-institute-of-technology/unsuper/runs/nydqtpfh' target=\"_blank\">https://wandb.ai/hy3134-rochester-institute-of-technology/unsuper/runs/nydqtpfh</a><br/> View project at: <a href='https://wandb.ai/hy3134-rochester-institute-of-technology/unsuper' target=\"_blank\">https://wandb.ai/hy3134-rochester-institute-of-technology/unsuper</a><br/>Synced 6 W&B file(s), 0 media file(s), 5 artifact file(s) and 1 other file(s)"
      ]
     },
     "metadata": {},
     "output_type": "display_data"
    },
    {
     "data": {
      "text/plain": [
       "<IPython.core.display.HTML object>"
      ],
      "text/html": [
       "Find logs at: <code>.\\wandb\\run-20240716_164947-nydqtpfh\\logs</code>"
      ]
     },
     "metadata": {},
     "output_type": "display_data"
    },
    {
     "data": {
      "text/plain": [
       "<IPython.core.display.HTML object>"
      ],
      "text/html": [
       "The new W&B backend becomes opt-out in version 0.18.0; try it out with `wandb.require(\"core\")`! See https://wandb.me/wandb-core for more information."
      ]
     },
     "metadata": {},
     "output_type": "display_data"
    }
   ],
   "execution_count": 10
  },
  {
   "metadata": {
    "ExecuteTime": {
     "end_time": "2024-07-16T20:49:27.721538Z",
     "start_time": "2024-07-16T20:49:27.378831Z"
    }
   },
   "cell_type": "code",
   "source": [
    "\n",
    "!test.py"
   ],
   "id": "5ad91b769621125d",
   "outputs": [
    {
     "name": "stdout",
     "output_type": "stream",
     "text": [
      "terminal testing\n"
     ]
    }
   ],
   "execution_count": 9
  }
 ],
 "metadata": {
  "kernelspec": {
   "display_name": "Python 3",
   "language": "python",
   "name": "python3"
  },
  "language_info": {
   "codemirror_mode": {
    "name": "ipython",
    "version": 2
   },
   "file_extension": ".py",
   "mimetype": "text/x-python",
   "name": "python",
   "nbconvert_exporter": "python",
   "pygments_lexer": "ipython2",
   "version": "2.7.6"
  }
 },
 "nbformat": 4,
 "nbformat_minor": 5
}
