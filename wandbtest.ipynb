{
 "cells": [
  {
   "cell_type": "code",
   "id": "initial_id",
   "metadata": {
    "collapsed": true,
    "ExecuteTime": {
     "end_time": "2024-09-16T15:08:18.089391Z",
     "start_time": "2024-09-16T15:08:18.054290Z"
    }
   },
   "source": [
    "\n",
    "import pandas as pd \n",
    "\n",
    "\n",
    "# df = pd.read_csv('Image_Labels_Subset_Train_GCC-Labels-training.tsv')\n",
    "# \n",
    "#         \n",
    "        \n",
    "        \n",
    "with open('Image_Labels_Subset_Train_GCC-Labels-training.tsv', encoding=\"utf8\") as f:\n",
    "    \n",
    "    i = 0\n",
    "    while line := f.readline():\n",
    "        \n",
    "\n",
    "        if ('angry') in line:\n",
    "            print(line.rstrip())\n",
    "            i += 1 \n",
    "            \n",
    "        if i > 10:\n",
    "            break\n",
    "        \n",
    "        \n",
    "    "
   ],
   "outputs": [
    {
     "name": "stdout",
     "output_type": "stream",
     "text": [
      "angry cartoon businessman with red face and smoke from the ears isolated -- stock vector #\thttps://st2.depositphotos.com/5483844/11321/v/950/depositphotos_113212124-stock-illustration-angry-cartoon-businessman-with-red.jpg\tcartoon,illustration,finger,arm,art,gesture,hand,thumb,clip art,suit,fictional character,style,formal wear\t/m/0215n,/m/01kr8f,/m/09cx8,/m/0dzf4,/m/0jjw,/m/0244x1,/m/0k65p,/m/01bmhj,/m/03g09t,/m/01xyhv,/m/02h7lkt,/m/012yh1,/m/02w3_2\t0.9830456972122192,0.9133835434913635,0.8532328009605408,0.7910864353179932,0.7399447560310364,0.7257665991783142,0.6600293517112732,0.6507625579833984,0.6495934128761292,0.6228167414665222,0.5859824419021606,0.5598880052566528,0.5228210091590881\n",
      "of an angry male birds found crocodile royalty free stock illustrations\thttps://st.depositphotos.com/1000658/1854/v/450/depositphotos_18542025-stock-illustration-of-an-angry-male-birds.jpg\tillustration,cartoon,bird,clip art,graphics,bird nest,fictional character,plant\t/m/01kr8f,/m/0215n,/m/015p6,/m/03g09t,/m/021sdg,/m/03bx1ft,/m/02h7lkt,/m/05s2s\t0.8862976431846619,0.8727332949638367,0.8516077399253845,0.7856572866439819,0.6635181903839111,0.5979869961738586,0.5859824419021606,0.585474967956543\n",
      "business man 's hand holding crumpled paper in his fist , representing to angry , aggressive , finding no idea , or failure .\thttps://thumb1.shutterstock.com/display_pic_with_logo/1014347/439191160/stock-photo-business-man-s-hand-holding-crumpled-paper-in-his-fist-representing-to-angry-aggressive-finding-439191160.jpg\thand,finger,arm,gesture,muscle,thumb,wrist\t/m/0k65p,/m/09cx8,/m/0dzf4,/m/0244x1,/m/04_fs,/m/01bmhj,/m/01j48b\t0.9587733745574951,0.9152100682258606,0.881848156452179,0.849852442741394,0.6424193978309631,0.5948857069015503,0.5357205271720886\n",
      "be very careful a friendship that has lasted for years can be completely changed in an i\thttps://www.storemypic.com/images/2016/11/15/angry-quote_be-very-careful-a-friendship-that-has-lasted-for-years-can-be-completely-changed-in-an-instant-never-be-the-same-again-9f06c.jpg\tcommon chimpanzee,photo caption,primate,text,snout,friendship,organism,human,adaptation,terrestrial animal,font,photography,temple,thinking,wildlife\t/m/0267y,/m/0b75wg4,/m/05qsj,/m/07s6nbt,/m/05mqq3,/m/019_nn,/m/05nnm,/m/0dgw9r,/m/03r_vp,/m/0fbf1m,/m/03gq5hm,/m/05wkw,/m/08g_yr,/m/097vm,/m/01280g\t0.9543763399124146,0.9221404790878296,0.9218437671661377,0.8692919611930847,0.8584626913070679,0.8311424851417542,0.8116517663002014,0.8055158257484436,0.7911608219146729,0.7443860769271851,0.6857237815856934,0.6778864860534668,0.6113089919090271,0.6048360466957092,0.5761504173278809\n",
      "illustration of a monochrome cartoon character : angry businessman protesting and holding up blank sign .\thttps://thumb10.shutterstock.com/display_pic_with_logo/1946846/178993583/stock-photo-illustration-of-a-monochrome-cartoon-character-angry-businessman-protesting-and-holding-up-blank-178993583.jpg\tcartoon,head,line art,illustration,hand,finger,line,clip art,gesture,thumb,coloring book,art\t/m/0215n,/m/04hgtk,/m/0919rx,/m/01kr8f,/m/0k65p,/m/09cx8,/m/03scnj,/m/03g09t,/m/0244x1,/m/01bmhj,/m/05h7rm,/m/0jjw\t0.9805248379707336,0.8947408199310303,0.8278323411941528,0.7682583928108215,0.7399766445159912,0.7321174144744873,0.7295002341270447,0.5876343846321106,0.585419237613678,0.5193837881088257,0.5075991153717041,0.502187192440033\n",
      "angry cat on the toilet as commercial\thttps://thumb7.shutterstock.com/display_pic_with_logo/1337119/782174815/stock-photo-angry-cat-on-the-toilet-as-commercial-782174815.jpg\tcartoon,illustration,squirrel,cat,grass,rodent,small to medium-sized cats,felidae,clip art,art,tail,kitten\t/m/0215n,/m/01kr8f,/m/071qp,/m/01yrx,/m/08t9c_,/m/06hps,/m/07k6w8,/m/0307l,/m/03g09t,/m/0jjw,/m/06z_nw,/m/0hjzp\t0.922727644443512,0.920221745967865,0.8552107214927673,0.8096187710762024,0.6880232691764832,0.6238215565681458,0.6169623136520386,0.6083571910858154,0.5876343846321106,0.5813031792640686,0.5782358050346375,0.5102251768112183\n",
      "young man driving a car and looks angry , showing middle finger while screaming stock photo - 41192496\thttps://us.123rf.com/450wm/ximagination/ximagination1506/ximagination150600028/41192496-young-man-driving-a-car-and-looks-angry-showing-middle-finger-while-screaming.jpg?ver=6\thead,arm,sitting,suitcase,gesture,baggage,hand,x-ray,mouth,stock photography,thumb,vehicle\t/m/04hgtk,/m/0dzf4,/m/015c4z,/m/01s55n,/m/0244x1,/m/03w7y7,/m/0k65p,/m/087gx,/m/0283dt1,/m/036jvk,/m/01bmhj,/m/07yv9\t0.8762359619140625,0.8529558181762695,0.845814049243927,0.8097647428512573,0.7861686944961548,0.7809377312660217,0.7661135196685791,0.6964537501335144,0.6794861555099487,0.5944116115570068,0.5562664866447449,0.5187400579452515\n",
      "illustration of an angry yellow emoticon isolated on a white background illustration\thttps://us.123rf.com/450wm/chastity/chastity1202/chastity120200076/12675148-illustration-of-an-angry-yellow-emoticon-isolated-on-a-white-background.jpg?ver=6\temoticon,face,yellow,smiley,facial expression,smile,cartoon,head,illustration,mouth,close-up,sky,icon,happy,art\t/m/02ngh,/m/0dzct,/m/088fh,/m/06n05,/m/01k74n,/m/019nj4,/m/0215n,/m/04hgtk,/m/01kr8f,/m/0283dt1,/m/02cqfm,/m/01bqvp,/m/03tqj,/m/016pp7,/m/0jjw\t0.9862818121910095,0.9635252952575684,0.9506410360336304,0.947554886341095,0.9447817206382751,0.9405242800712585,0.9375407099723816,0.9039563536643982,0.9038773775100708,0.8629258275032043,0.7332175970077515,0.7326111197471619,0.724165141582489,0.71640944480896,0.655128538608551\n",
      "different poses of a businessman showing something .\thttps://image.shutterstock.com/z/stock-vector--different-poses-of-a-businessman-showing-something-the-character-is-angry-sad-happy-doubting-640940458.jpg\tcartoon,illustration,clip art,band plays,gesture,art\t/m/0215n,/m/01kr8f,/m/03g09t,/j/6zm0zz,/m/0244x1,/m/0jjw\t0.9369838237762451,0.7961652278900146,0.669712483882904,0.6363635659217834,0.5173180103302002,0.502187192440033\n",
      "a cartoon vector illustration of an angry gorilla beating its chest .\thttps://thumb1.shutterstock.com/display_pic_with_logo/1740064/251972440/stock-vector-a-cartoon-vector-illustration-of-an-angry-gorilla-beating-its-chest-251972440.jpg\tcartoon,illustration,bear,groundhog day,grizzly bear,brown bear,art,groundhog\t/m/0215n,/m/01kr8f,/m/01dws,/m/011x96,/m/037_v,/m/01dxs,/m/0jjw,/m/016cps\t0.9758241772651672,0.8939545154571533,0.7064872980117798,0.6825194358825684,0.6408087015151978,0.637703001499176,0.6253476738929749,0.5174741148948669\n",
      "business man wearing a suit with mad or angry expression on his face .\thttps://thumb1.shutterstock.com/display_pic_with_logo/673633/673633,1297364729,4/stock-vector-business-man-wearing-a-suit-with-mad-or-angry-expression-on-his-face-70968715.jpg\tcartoon,illustration,clip art,art\t/m/0215n,/m/01kr8f,/m/03g09t,/m/0jjw\t0.9864118695259094,0.9147084951400757,0.7987054586410522,0.6946530342102051\n"
     ]
    }
   ],
   "execution_count": 11
  },
  {
   "metadata": {},
   "cell_type": "code",
   "outputs": [],
   "execution_count": null,
   "source": "",
   "id": "c4971ac9e73e86be"
  },
  {
   "metadata": {
    "ExecuteTime": {
     "end_time": "2024-07-16T20:49:52.882594Z",
     "start_time": "2024-07-16T20:49:46.913881Z"
    }
   },
   "cell_type": "code",
   "source": [
    "\n",
    "import wandb \n",
    "\n",
    "\n",
    "wandb.login(key='faac1ab63cb2208d0e2c146c66a8f2b0f1543212')\n",
    "\n",
    "\n",
    "run = wandb.init(project='unsuper',\n",
    "           name='testing5',\n",
    "           save_code=True)\n",
    "\n",
    "with run:\n",
    "    # for step in range(100):\n",
    "    #     # insert training process here\n",
    "    #     wandb.log({'info' : 1})\n",
    "    #     \n",
    "    #     print('testing stuff ')\n",
    "    #     \n",
    "        \n",
    "    !python test.py"
   ],
   "id": "55403b9a0e8ab828",
   "outputs": [
    {
     "name": "stderr",
     "output_type": "stream",
     "text": [
      "wandb: WARNING If you're specifying your api key in code, ensure this code is not shared publicly.\n",
      "wandb: WARNING Consider setting the WANDB_API_KEY environment variable, or running `wandb login` from the command line.\n",
      "wandb: Appending key for api.wandb.ai to your netrc file: C:\\Users\\HongM\\_netrc\n"
     ]
    },
    {
     "data": {
      "text/plain": [
       "<IPython.core.display.HTML object>"
      ],
      "text/html": [
       "Tracking run with wandb version 0.17.4"
      ]
     },
     "metadata": {},
     "output_type": "display_data"
    },
    {
     "data": {
      "text/plain": [
       "<IPython.core.display.HTML object>"
      ],
      "text/html": [
       "Run data is saved locally in <code>C:\\Users\\HongM\\PycharmProjects\\ProblematicSelfSupervisedOOD\\wandb\\run-20240716_164947-nydqtpfh</code>"
      ]
     },
     "metadata": {},
     "output_type": "display_data"
    },
    {
     "data": {
      "text/plain": [
       "<IPython.core.display.HTML object>"
      ],
      "text/html": [
       "Syncing run <strong><a href='https://wandb.ai/hy3134-rochester-institute-of-technology/unsuper/runs/nydqtpfh' target=\"_blank\">testing5</a></strong> to <a href='https://wandb.ai/hy3134-rochester-institute-of-technology/unsuper' target=\"_blank\">Weights & Biases</a> (<a href='https://wandb.me/run' target=\"_blank\">docs</a>)<br/>"
      ]
     },
     "metadata": {},
     "output_type": "display_data"
    },
    {
     "data": {
      "text/plain": [
       "<IPython.core.display.HTML object>"
      ],
      "text/html": [
       " View project at <a href='https://wandb.ai/hy3134-rochester-institute-of-technology/unsuper' target=\"_blank\">https://wandb.ai/hy3134-rochester-institute-of-technology/unsuper</a>"
      ]
     },
     "metadata": {},
     "output_type": "display_data"
    },
    {
     "data": {
      "text/plain": [
       "<IPython.core.display.HTML object>"
      ],
      "text/html": [
       " View run at <a href='https://wandb.ai/hy3134-rochester-institute-of-technology/unsuper/runs/nydqtpfh' target=\"_blank\">https://wandb.ai/hy3134-rochester-institute-of-technology/unsuper/runs/nydqtpfh</a>"
      ]
     },
     "metadata": {},
     "output_type": "display_data"
    },
    {
     "name": "stdout",
     "output_type": "stream",
     "text": [
      "terminal testing\n"
     ]
    },
    {
     "data": {
      "text/plain": [
       "VBox(children=(Label(value='0.053 MB of 0.053 MB uploaded (0.004 MB deduped)\\r'), FloatProgress(value=1.0, max…"
      ],
      "application/vnd.jupyter.widget-view+json": {
       "version_major": 2,
       "version_minor": 0,
       "model_id": "f3c6972eed8b4903986a84494b8fae62"
      }
     },
     "metadata": {},
     "output_type": "display_data"
    },
    {
     "data": {
      "text/plain": [
       "<IPython.core.display.HTML object>"
      ],
      "text/html": [
       "W&B sync reduced upload amount by 8.2%             "
      ]
     },
     "metadata": {},
     "output_type": "display_data"
    },
    {
     "data": {
      "text/plain": [
       "<IPython.core.display.HTML object>"
      ],
      "text/html": [
       " View run <strong style=\"color:#cdcd00\">testing5</strong> at: <a href='https://wandb.ai/hy3134-rochester-institute-of-technology/unsuper/runs/nydqtpfh' target=\"_blank\">https://wandb.ai/hy3134-rochester-institute-of-technology/unsuper/runs/nydqtpfh</a><br/> View project at: <a href='https://wandb.ai/hy3134-rochester-institute-of-technology/unsuper' target=\"_blank\">https://wandb.ai/hy3134-rochester-institute-of-technology/unsuper</a><br/>Synced 6 W&B file(s), 0 media file(s), 5 artifact file(s) and 1 other file(s)"
      ]
     },
     "metadata": {},
     "output_type": "display_data"
    },
    {
     "data": {
      "text/plain": [
       "<IPython.core.display.HTML object>"
      ],
      "text/html": [
       "Find logs at: <code>.\\wandb\\run-20240716_164947-nydqtpfh\\logs</code>"
      ]
     },
     "metadata": {},
     "output_type": "display_data"
    },
    {
     "data": {
      "text/plain": [
       "<IPython.core.display.HTML object>"
      ],
      "text/html": [
       "The new W&B backend becomes opt-out in version 0.18.0; try it out with `wandb.require(\"core\")`! See https://wandb.me/wandb-core for more information."
      ]
     },
     "metadata": {},
     "output_type": "display_data"
    }
   ],
   "execution_count": 10
  },
  {
   "metadata": {
    "ExecuteTime": {
     "end_time": "2024-07-16T20:49:27.721538Z",
     "start_time": "2024-07-16T20:49:27.378831Z"
    }
   },
   "cell_type": "code",
   "source": [
    "\n",
    "!test.py"
   ],
   "id": "5ad91b769621125d",
   "outputs": [
    {
     "name": "stdout",
     "output_type": "stream",
     "text": [
      "terminal testing\n"
     ]
    }
   ],
   "execution_count": 9
  }
 ],
 "metadata": {
  "kernelspec": {
   "display_name": "Python 3",
   "language": "python",
   "name": "python3"
  },
  "language_info": {
   "codemirror_mode": {
    "name": "ipython",
    "version": 2
   },
   "file_extension": ".py",
   "mimetype": "text/x-python",
   "name": "python",
   "nbconvert_exporter": "python",
   "pygments_lexer": "ipython2",
   "version": "2.7.6"
  }
 },
 "nbformat": 4,
 "nbformat_minor": 5
}
