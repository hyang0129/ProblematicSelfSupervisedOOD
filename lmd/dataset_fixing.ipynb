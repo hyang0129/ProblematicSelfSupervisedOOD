{
 "cells": [
  {
   "cell_type": "code",
   "id": "initial_id",
   "metadata": {
    "collapsed": true,
    "ExecuteTime": {
     "end_time": "2024-06-03T18:29:08.893537Z",
     "start_time": "2024-06-03T18:28:32.117791Z"
    }
   },
   "source": [
    "# coding=utf-8\n",
    "# Copyright 2020 The Google Research Authors.\n",
    "#\n",
    "# Licensed under the Apache License, Version 2.0 (the \"License\");\n",
    "# you may not use this file except in compliance with the License.\n",
    "# You may obtain a copy of the License at\n",
    "#\n",
    "#     http://www.apache.org/licenses/LICENSE-2.0\n",
    "#\n",
    "# Unless required by applicable law or agreed to in writing, software\n",
    "# distributed under the License is distributed on an \"AS IS\" BASIS,\n",
    "# WITHOUT WARRANTIES OR CONDITIONS OF ANY KIND, either express or implied.\n",
    "# See the License for the specific language governing permissions and\n",
    "# limitations under the License.\n",
    "\n",
    "\"\"\"Training and evaluation\"\"\"\n",
    "\n",
    "from absl import app\n",
    "from absl import flags\n",
    "from ml_collections.config_flags import config_flags\n",
    "import logging\n",
    "import os\n",
    "import tensorflow as tf\n",
    "import sys \n",
    "import datasets \n",
    "\n",
    "# sys.argv = = [ '--dataset', 'SMD', '--q', '0.005']\n",
    "\n",
    "# sys.argv = ['--workdir',  'results/cifar10/', '--config', 'configs/subvp/cifar10_ddpm_continuous.py',  '--mode', 'train']\n",
    "# \n",
    "#         \n",
    "\n",
    "from configs.default_cifar10_configs import get_default_configs\n",
    "\n",
    "\n",
    "config = get_default_configs()\n",
    "\n",
    "train_ds, eval_ds, _ = datasets.get_dataset(config,\n",
    "                                  uniform_dequantization=config.data.uniform_dequantization)\n",
    "\n",
    "\n"
   ],
   "outputs": [
    {
     "name": "stderr",
     "output_type": "stream",
     "text": [
      "W0603 14:28:32.215263 23272 options.py:615] options.experimental_threading is deprecated. Use options.threading instead.\n",
      "W0603 14:28:32.215263 23272 options.py:615] options.experimental_threading is deprecated. Use options.threading instead.\n"
     ]
    },
    {
     "name": "stdout",
     "output_type": "stream",
     "text": [
      "building train\n",
      "\u001B[1mDownloading and preparing dataset Unknown size (download: Unknown size, generated: Unknown size, total: Unknown size) to C:\\Users\\HongM\\tensorflow_datasets\\cifar10\\3.0.2...\u001B[0m\n"
     ]
    },
    {
     "data": {
      "text/plain": [
       "Dl Completed...: 0 url [00:00, ? url/s]"
      ],
      "application/vnd.jupyter.widget-view+json": {
       "version_major": 2,
       "version_minor": 0,
       "model_id": "a2791cd7886743ffa7a7d4ba5b148929"
      }
     },
     "metadata": {},
     "output_type": "display_data"
    },
    {
     "data": {
      "text/plain": [
       "Dl Size...: 0 MiB [00:00, ? MiB/s]"
      ],
      "application/vnd.jupyter.widget-view+json": {
       "version_major": 2,
       "version_minor": 0,
       "model_id": "562d30222f474b21ab5166d273cc9641"
      }
     },
     "metadata": {},
     "output_type": "display_data"
    },
    {
     "data": {
      "text/plain": [
       "Extraction completed...: 0 file [00:00, ? file/s]"
      ],
      "application/vnd.jupyter.widget-view+json": {
       "version_major": 2,
       "version_minor": 0,
       "model_id": "e4300e4b56a44a6db3ffb29b9e62487a"
      }
     },
     "metadata": {},
     "output_type": "display_data"
    },
    {
     "data": {
      "text/plain": [
       "Generating splits...:   0%|          | 0/2 [00:00<?, ? splits/s]"
      ],
      "application/vnd.jupyter.widget-view+json": {
       "version_major": 2,
       "version_minor": 0,
       "model_id": "a69c6160ba164818a1b643e01a401aab"
      }
     },
     "metadata": {},
     "output_type": "display_data"
    },
    {
     "data": {
      "text/plain": [
       "Generating train examples...: 0 examples [00:00, ? examples/s]"
      ],
      "application/vnd.jupyter.widget-view+json": {
       "version_major": 2,
       "version_minor": 0,
       "model_id": "ddd78e02637e46e2a40eccd07c21fd9d"
      }
     },
     "metadata": {},
     "output_type": "display_data"
    },
    {
     "data": {
      "text/plain": [
       "Shuffling C:\\Users\\HongM\\tensorflow_datasets\\cifar10\\incomplete.A0PFEL_3.0.2\\cifar10-train.tfrecord*...:   0%|…"
      ],
      "application/vnd.jupyter.widget-view+json": {
       "version_major": 2,
       "version_minor": 0,
       "model_id": "fbc3b3b313b64d84b1a4d0844622426a"
      }
     },
     "metadata": {},
     "output_type": "display_data"
    },
    {
     "data": {
      "text/plain": [
       "Generating test examples...: 0 examples [00:00, ? examples/s]"
      ],
      "application/vnd.jupyter.widget-view+json": {
       "version_major": 2,
       "version_minor": 0,
       "model_id": "de665f2ba2344239a2a3c13eba270368"
      }
     },
     "metadata": {},
     "output_type": "display_data"
    },
    {
     "data": {
      "text/plain": [
       "Shuffling C:\\Users\\HongM\\tensorflow_datasets\\cifar10\\incomplete.A0PFEL_3.0.2\\cifar10-test.tfrecord*...:   0%| …"
      ],
      "application/vnd.jupyter.widget-view+json": {
       "version_major": 2,
       "version_minor": 0,
       "model_id": "9609a36713724b9bba70cca592c5c7b9"
      }
     },
     "metadata": {},
     "output_type": "display_data"
    },
    {
     "name": "stderr",
     "output_type": "stream",
     "text": [
      "W0603 14:29:08.815084 23272 options.py:615] options.experimental_threading is deprecated. Use options.threading instead.\n"
     ]
    },
    {
     "name": "stdout",
     "output_type": "stream",
     "text": [
      "\u001B[1mDataset cifar10 downloaded and prepared to C:\\Users\\HongM\\tensorflow_datasets\\cifar10\\3.0.2. Subsequent calls will reuse this data.\u001B[0m\n",
      "building test\n"
     ]
    },
    {
     "name": "stderr",
     "output_type": "stream",
     "text": [
      "W0603 14:29:08.815084 23272 options.py:615] options.experimental_threading is deprecated. Use options.threading instead.\n"
     ]
    },
    {
     "name": "stdout",
     "output_type": "stream",
     "text": [
      "splits done\n"
     ]
    }
   ],
   "execution_count": 2
  },
  {
   "metadata": {
    "ExecuteTime": {
     "end_time": "2024-06-03T18:13:13.034352Z",
     "start_time": "2024-06-03T18:13:04.822007Z"
    }
   },
   "cell_type": "code",
   "source": "",
   "id": "67046d402a291525",
   "outputs": [
    {
     "name": "stdout",
     "output_type": "stream",
     "text": [
      "Requirement already satisfied: jax[cpu] in c:\\users\\hongm\\pycharmprojects\\problematicselfsupervisedood\\venv\\lib\\site-packages (0.4.28)\n",
      "Requirement already satisfied: ml-dtypes>=0.2.0 in c:\\users\\hongm\\pycharmprojects\\problematicselfsupervisedood\\venv\\lib\\site-packages (from jax[cpu]) (0.2.0)\n",
      "Requirement already satisfied: numpy>=1.22 in c:\\users\\hongm\\pycharmprojects\\problematicselfsupervisedood\\venv\\lib\\site-packages (from jax[cpu]) (1.24.4)\n",
      "Requirement already satisfied: opt-einsum in c:\\users\\hongm\\pycharmprojects\\problematicselfsupervisedood\\venv\\lib\\site-packages (from jax[cpu]) (3.3.0)\n",
      "Requirement already satisfied: scipy>=1.9 in c:\\users\\hongm\\pycharmprojects\\problematicselfsupervisedood\\venv\\lib\\site-packages (from jax[cpu]) (1.13.1)\n",
      "Collecting jaxlib==0.4.28 (from jax[cpu])\n",
      "  Obtaining dependency information for jaxlib==0.4.28 from https://files.pythonhosted.org/packages/49/4c/8f8ced143ebb1bc5380784687f847906a56a35f87756c41278cd1d66bebf/jaxlib-0.4.28-cp310-cp310-win_amd64.whl.metadata\n",
      "  Downloading jaxlib-0.4.28-cp310-cp310-win_amd64.whl.metadata (1.8 kB)\n",
      "Downloading jaxlib-0.4.28-cp310-cp310-win_amd64.whl (51.5 MB)\n",
      "   ---------------------------------------- 0.0/51.5 MB ? eta -:--:--\n",
      "   ---------------------------------------- 0.2/51.5 MB 4.0 MB/s eta 0:00:13\n",
      "    --------------------------------------- 0.7/51.5 MB 8.3 MB/s eta 0:00:07\n",
      "    --------------------------------------- 1.0/51.5 MB 9.2 MB/s eta 0:00:06\n",
      "   - -------------------------------------- 1.5/51.5 MB 9.8 MB/s eta 0:00:06\n",
      "   - -------------------------------------- 2.0/51.5 MB 10.6 MB/s eta 0:00:05\n",
      "   - -------------------------------------- 2.4/51.5 MB 10.4 MB/s eta 0:00:05\n",
      "   -- ------------------------------------- 2.9/51.5 MB 10.8 MB/s eta 0:00:05\n",
      "   -- ------------------------------------- 3.3/51.5 MB 10.7 MB/s eta 0:00:05\n",
      "   -- ------------------------------------- 3.8/51.5 MB 11.0 MB/s eta 0:00:05\n",
      "   --- ------------------------------------ 4.3/51.5 MB 11.0 MB/s eta 0:00:05\n",
      "   --- ------------------------------------ 4.7/51.5 MB 11.2 MB/s eta 0:00:05\n",
      "   ---- ----------------------------------- 5.2/51.5 MB 11.0 MB/s eta 0:00:05\n",
      "   ---- ----------------------------------- 5.7/51.5 MB 11.3 MB/s eta 0:00:05\n",
      "   ---- ----------------------------------- 6.1/51.5 MB 11.1 MB/s eta 0:00:05\n",
      "   ----- ---------------------------------- 6.6/51.5 MB 11.3 MB/s eta 0:00:04\n",
      "   ----- ---------------------------------- 6.9/51.5 MB 11.3 MB/s eta 0:00:04\n",
      "   ----- ---------------------------------- 7.4/51.5 MB 11.3 MB/s eta 0:00:04\n",
      "   ------ --------------------------------- 7.9/51.5 MB 11.3 MB/s eta 0:00:04\n",
      "   ------ --------------------------------- 8.4/51.5 MB 11.4 MB/s eta 0:00:04\n",
      "   ------ --------------------------------- 8.8/51.5 MB 11.3 MB/s eta 0:00:04\n",
      "   ------- -------------------------------- 9.3/51.5 MB 11.5 MB/s eta 0:00:04\n",
      "   ------- -------------------------------- 9.7/51.5 MB 11.3 MB/s eta 0:00:04\n",
      "   ------- -------------------------------- 9.8/51.5 MB 11.4 MB/s eta 0:00:04\n",
      "   -------- ------------------------------- 10.6/51.5 MB 11.7 MB/s eta 0:00:04\n",
      "   -------- ------------------------------- 11.1/51.5 MB 11.7 MB/s eta 0:00:04\n",
      "   -------- ------------------------------- 11.6/51.5 MB 11.9 MB/s eta 0:00:04\n",
      "   --------- ------------------------------ 11.8/51.5 MB 11.7 MB/s eta 0:00:04\n",
      "   --------- ------------------------------ 12.1/51.5 MB 11.3 MB/s eta 0:00:04\n",
      "   --------- ------------------------------ 12.5/51.5 MB 11.3 MB/s eta 0:00:04\n",
      "   ---------- ----------------------------- 13.0/51.5 MB 11.3 MB/s eta 0:00:04\n",
      "   ---------- ----------------------------- 13.4/51.5 MB 11.3 MB/s eta 0:00:04\n",
      "   ---------- ----------------------------- 13.9/51.5 MB 11.3 MB/s eta 0:00:04\n",
      "   ----------- ---------------------------- 14.4/51.5 MB 11.3 MB/s eta 0:00:04\n",
      "   ----------- ---------------------------- 14.8/51.5 MB 11.3 MB/s eta 0:00:04\n",
      "   ----------- ---------------------------- 15.2/51.5 MB 11.3 MB/s eta 0:00:04\n",
      "   ------------ --------------------------- 15.7/51.5 MB 11.3 MB/s eta 0:00:04\n",
      "   ------------ --------------------------- 16.1/51.5 MB 11.5 MB/s eta 0:00:04\n",
      "   ------------ --------------------------- 16.5/51.5 MB 11.3 MB/s eta 0:00:04\n",
      "   ------------- -------------------------- 17.0/51.5 MB 11.3 MB/s eta 0:00:04\n",
      "   ------------- -------------------------- 17.4/51.5 MB 11.3 MB/s eta 0:00:04\n",
      "   -------------- ------------------------- 18.2/51.5 MB 11.3 MB/s eta 0:00:03\n",
      "   -------------- ------------------------- 18.6/51.5 MB 11.3 MB/s eta 0:00:03\n",
      "   -------------- ------------------------- 19.0/51.5 MB 11.5 MB/s eta 0:00:03\n",
      "   --------------- ------------------------ 19.5/51.5 MB 11.3 MB/s eta 0:00:03\n",
      "   --------------- ------------------------ 20.0/51.5 MB 11.3 MB/s eta 0:00:03\n",
      "   --------------- ------------------------ 20.5/51.5 MB 11.5 MB/s eta 0:00:03\n",
      "   ---------------- ----------------------- 20.9/51.5 MB 11.3 MB/s eta 0:00:03\n",
      "   ---------------- ----------------------- 21.3/51.5 MB 11.3 MB/s eta 0:00:03\n",
      "   ---------------- ----------------------- 21.8/51.5 MB 11.3 MB/s eta 0:00:03\n",
      "   ----------------- ---------------------- 22.2/51.5 MB 11.7 MB/s eta 0:00:03\n",
      "   ----------------- ---------------------- 22.7/51.5 MB 11.9 MB/s eta 0:00:03\n",
      "   ------------------ --------------------- 23.2/51.5 MB 11.7 MB/s eta 0:00:03\n",
      "   ------------------ --------------------- 23.6/51.5 MB 11.9 MB/s eta 0:00:03\n",
      "   ------------------ --------------------- 24.0/51.5 MB 11.7 MB/s eta 0:00:03\n",
      "   ------------------- -------------------- 24.5/51.5 MB 11.7 MB/s eta 0:00:03\n",
      "   ------------------- -------------------- 25.1/51.5 MB 11.7 MB/s eta 0:00:03\n",
      "   ------------------- -------------------- 25.6/51.5 MB 11.7 MB/s eta 0:00:03\n",
      "   -------------------- ------------------- 26.2/51.5 MB 11.7 MB/s eta 0:00:03\n",
      "   -------------------- ------------------- 26.8/51.5 MB 11.7 MB/s eta 0:00:03\n",
      "   --------------------- ------------------ 27.5/51.5 MB 11.7 MB/s eta 0:00:03\n",
      "   --------------------- ------------------ 27.9/51.5 MB 11.9 MB/s eta 0:00:02\n",
      "   ---------------------- ----------------- 28.4/51.5 MB 11.7 MB/s eta 0:00:02\n",
      "   ---------------------- ----------------- 29.0/51.5 MB 11.7 MB/s eta 0:00:02\n",
      "   ---------------------- ----------------- 29.5/51.5 MB 11.7 MB/s eta 0:00:02\n",
      "   ----------------------- ---------------- 29.9/51.5 MB 11.7 MB/s eta 0:00:02\n",
      "   ----------------------- ---------------- 30.5/51.5 MB 11.7 MB/s eta 0:00:02\n",
      "   ------------------------ --------------- 31.0/51.5 MB 11.7 MB/s eta 0:00:02\n",
      "   ------------------------ --------------- 31.6/51.5 MB 11.7 MB/s eta 0:00:02\n",
      "   ------------------------ --------------- 32.1/51.5 MB 11.7 MB/s eta 0:00:02\n",
      "   ------------------------- -------------- 32.6/51.5 MB 11.7 MB/s eta 0:00:02\n",
      "   ------------------------- -------------- 33.0/51.5 MB 11.7 MB/s eta 0:00:02\n",
      "   -------------------------- ------------- 33.5/51.5 MB 11.9 MB/s eta 0:00:02\n",
      "   -------------------------- ------------- 33.9/51.5 MB 11.7 MB/s eta 0:00:02\n",
      "   -------------------------- ------------- 34.4/51.5 MB 11.7 MB/s eta 0:00:02\n",
      "   --------------------------- ------------ 34.9/51.5 MB 11.9 MB/s eta 0:00:02\n",
      "   --------------------------- ------------ 35.3/51.5 MB 11.7 MB/s eta 0:00:02\n",
      "   --------------------------- ------------ 35.8/51.5 MB 11.9 MB/s eta 0:00:02\n",
      "   ---------------------------- ----------- 36.4/51.5 MB 11.9 MB/s eta 0:00:02\n",
      "   ---------------------------- ----------- 36.9/51.5 MB 11.7 MB/s eta 0:00:02\n",
      "   ---------------------------- ----------- 37.3/51.5 MB 11.9 MB/s eta 0:00:02\n",
      "   ----------------------------- ---------- 37.7/51.5 MB 11.9 MB/s eta 0:00:02\n",
      "   ----------------------------- ---------- 38.2/51.5 MB 11.7 MB/s eta 0:00:02\n",
      "   ------------------------------ --------- 38.7/51.5 MB 11.7 MB/s eta 0:00:02\n",
      "   ------------------------------ --------- 39.1/51.5 MB 11.9 MB/s eta 0:00:02\n",
      "   ------------------------------ --------- 39.6/51.5 MB 11.9 MB/s eta 0:00:01\n",
      "   ------------------------------- -------- 40.0/51.5 MB 11.7 MB/s eta 0:00:01\n",
      "   ------------------------------- -------- 40.5/51.5 MB 11.7 MB/s eta 0:00:01\n",
      "   ------------------------------- -------- 40.9/51.5 MB 11.7 MB/s eta 0:00:01\n",
      "   -------------------------------- ------- 41.3/51.5 MB 11.9 MB/s eta 0:00:01\n",
      "   -------------------------------- ------- 41.8/51.5 MB 11.9 MB/s eta 0:00:01\n",
      "   -------------------------------- ------- 42.3/51.5 MB 11.9 MB/s eta 0:00:01\n",
      "   --------------------------------- ------ 42.8/51.5 MB 11.7 MB/s eta 0:00:01\n",
      "   --------------------------------- ------ 43.2/51.5 MB 11.9 MB/s eta 0:00:01\n",
      "   --------------------------------- ------ 43.7/51.5 MB 11.7 MB/s eta 0:00:01\n",
      "   ---------------------------------- ----- 44.1/51.5 MB 11.7 MB/s eta 0:00:01\n",
      "   ---------------------------------- ----- 44.5/51.5 MB 11.7 MB/s eta 0:00:01\n",
      "   ---------------------------------- ----- 45.0/51.5 MB 11.7 MB/s eta 0:00:01\n",
      "   ----------------------------------- ---- 45.5/51.5 MB 11.7 MB/s eta 0:00:01\n",
      "   ----------------------------------- ---- 45.9/51.5 MB 11.9 MB/s eta 0:00:01\n",
      "   ------------------------------------ --- 46.4/51.5 MB 11.7 MB/s eta 0:00:01\n",
      "   ------------------------------------ --- 46.9/51.5 MB 11.9 MB/s eta 0:00:01\n",
      "   ------------------------------------ --- 47.1/51.5 MB 11.7 MB/s eta 0:00:01\n",
      "   ------------------------------------ --- 47.1/51.5 MB 11.7 MB/s eta 0:00:01\n",
      "   ------------------------------------ --- 47.6/51.5 MB 11.1 MB/s eta 0:00:01\n",
      "   ------------------------------------- -- 48.1/51.5 MB 10.9 MB/s eta 0:00:01\n",
      "   ------------------------------------- -- 48.5/51.5 MB 10.9 MB/s eta 0:00:01\n",
      "   -------------------------------------- - 49.0/51.5 MB 10.9 MB/s eta 0:00:01\n",
      "   -------------------------------------- - 49.4/51.5 MB 10.9 MB/s eta 0:00:01\n",
      "   -------------------------------------- - 49.9/51.5 MB 10.9 MB/s eta 0:00:01\n",
      "   ---------------------------------------  50.4/51.5 MB 10.9 MB/s eta 0:00:01\n",
      "   ---------------------------------------  50.8/51.5 MB 10.9 MB/s eta 0:00:01\n",
      "   ---------------------------------------  51.3/51.5 MB 11.1 MB/s eta 0:00:01\n",
      "   ---------------------------------------  51.5/51.5 MB 11.1 MB/s eta 0:00:01\n",
      "   ---------------------------------------  51.5/51.5 MB 11.1 MB/s eta 0:00:01\n",
      "   ---------------------------------------  51.5/51.5 MB 11.1 MB/s eta 0:00:01\n",
      "   ---------------------------------------  51.5/51.5 MB 11.1 MB/s eta 0:00:01\n",
      "   ---------------------------------------- 51.5/51.5 MB 9.2 MB/s eta 0:00:00\n",
      "Installing collected packages: jaxlib\n",
      "Successfully installed jaxlib-0.4.28\n"
     ]
    },
    {
     "name": "stderr",
     "output_type": "stream",
     "text": [
      "WARNING: Ignoring invalid distribution -ensorflow-intel (c:\\users\\hongm\\pycharmprojects\\problematicselfsupervisedood\\venv\\lib\\site-packages)\n",
      "WARNING: Ignoring invalid distribution -ensorflow-intel (c:\\users\\hongm\\pycharmprojects\\problematicselfsupervisedood\\venv\\lib\\site-packages)\n",
      "\n",
      "[notice] A new release of pip is available: 23.2.1 -> 24.0\n",
      "[notice] To update, run: python.exe -m pip install --upgrade pip\n"
     ]
    }
   ],
   "execution_count": 2
  },
  {
   "metadata": {
    "ExecuteTime": {
     "end_time": "2024-06-03T18:09:42.475933Z",
     "start_time": "2024-06-03T18:09:42.455155Z"
    }
   },
   "cell_type": "code",
   "source": [
    "import tensorflow as tf\n",
    "\n",
    "tf.__version__"
   ],
   "id": "4bb49a4a77af8b38",
   "outputs": [
    {
     "data": {
      "text/plain": [
       "'2.15.0'"
      ]
     },
     "execution_count": 4,
     "metadata": {},
     "output_type": "execute_result"
    }
   ],
   "execution_count": 4
  }
 ],
 "metadata": {
  "kernelspec": {
   "display_name": "Python 3",
   "language": "python",
   "name": "python3"
  },
  "language_info": {
   "codemirror_mode": {
    "name": "ipython",
    "version": 2
   },
   "file_extension": ".py",
   "mimetype": "text/x-python",
   "name": "python",
   "nbconvert_exporter": "python",
   "pygments_lexer": "ipython2",
   "version": "2.7.6"
  }
 },
 "nbformat": 4,
 "nbformat_minor": 5
}
