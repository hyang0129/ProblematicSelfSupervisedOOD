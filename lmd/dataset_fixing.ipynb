{
 "cells": [
  {
   "cell_type": "code",
   "id": "initial_id",
   "metadata": {
    "collapsed": true,
    "ExecuteTime": {
     "end_time": "2024-06-16T22:14:01.027707Z",
     "start_time": "2024-06-16T22:13:59.854814Z"
    }
   },
   "source": [
    "# coding=utf-8\n",
    "# Copyright 2020 The Google Research Authors.\n",
    "#\n",
    "# Licensed under the Apache License, Version 2.0 (the \"License\");\n",
    "# you may not use this file except in compliance with the License.\n",
    "# You may obtain a copy of the License at\n",
    "#\n",
    "#     http://www.apache.org/licenses/LICENSE-2.0\n",
    "#\n",
    "# Unless required by applicable law or agreed to in writing, software\n",
    "# distributed under the License is distributed on an \"AS IS\" BASIS,\n",
    "# WITHOUT WARRANTIES OR CONDITIONS OF ANY KIND, either express or implied.\n",
    "# See the License for the specific language governing permissions and\n",
    "# limitations under the License.\n",
    "\n",
    "\"\"\"Training and evaluation\"\"\"\n",
    "\n",
    "from absl import app\n",
    "from absl import flags\n",
    "from ml_collections.config_flags import config_flags\n",
    "import logging\n",
    "import os\n",
    "import tensorflow as tf\n",
    "import sys \n",
    "import datasets \n",
    "\n",
    "# sys.argv = = [ '--dataset', 'SMD', '--q', '0.005']\n",
    "\n",
    "# sys.argv = ['--workdir',  'results/cifar10/', '--config', 'configs/subvp/cifar10_ddpm_continuous.py',  '--mode', 'train']\n",
    "# \n",
    "#         \n",
    "\n",
    "from configs.default_cifar10_configs import get_default_configs\n",
    "\n",
    "\n",
    "config = get_default_configs()\n",
    "\n",
    "config.data.dataset = 'CIFAR10_ADJ_ID_1'\n",
    "\n",
    "train_ds, eval_ds, _ = datasets.get_dataset(config,\n",
    "                                  uniform_dequantization=config.data.uniform_dequantization, \n",
    "                                            evaluation=True)\n",
    "\n",
    "\n"
   ],
   "outputs": [
    {
     "name": "stderr",
     "output_type": "stream",
     "text": [
      "WARNING:absl:options.experimental_threading is deprecated. Use options.threading instead.\n",
      "WARNING:absl:options.experimental_threading is deprecated. Use options.threading instead.\n",
      "WARNING:absl:options.experimental_threading is deprecated. Use options.threading instead.\n",
      "WARNING:absl:options.experimental_threading is deprecated. Use options.threading instead.\n",
      "WARNING:absl:options.experimental_threading is deprecated. Use options.threading instead.\n",
      "WARNING:absl:options.experimental_threading is deprecated. Use options.threading instead.\n"
     ]
    },
    {
     "name": "stdout",
     "output_type": "stream",
     "text": [
      "building train\n",
      "building test\n",
      "splits done\n",
      "Applying Filters for Adjacent OOD Benchmark\n",
      "In distribution classes are [2 9 6 4 0 3 1 7]\n"
     ]
    }
   ],
   "execution_count": 5
  },
  {
   "metadata": {},
   "cell_type": "code",
   "outputs": [],
   "execution_count": null,
   "source": [
    "import tensorflow_datasets as tfds \n",
    "\n",
    "train, test = tfds.load('cifar10', split=['train','test'])"
   ],
   "id": "2a339f2285342612"
  },
  {
   "metadata": {
    "ExecuteTime": {
     "end_time": "2024-06-16T22:13:17.872831Z",
     "start_time": "2024-06-16T22:13:17.371315Z"
    }
   },
   "cell_type": "code",
   "source": [
    "for data in eval_ds: \n",
    "    break \n",
    "    \n",
    "tf.unique(data['label'])\n"
   ],
   "id": "389f944e177bfac",
   "outputs": [
    {
     "data": {
      "text/plain": [
       "Unique(y=<tf.Tensor: shape=(8,), dtype=int64, numpy=array([3, 8, 2, 9, 4, 7, 1, 6], dtype=int64)>, idx=<tf.Tensor: shape=(1024,), dtype=int32, numpy=array([0, 1, 2, ..., 1, 1, 6])>)"
      ]
     },
     "execution_count": 2,
     "metadata": {},
     "output_type": "execute_result"
    }
   ],
   "execution_count": 2
  },
  {
   "metadata": {
    "ExecuteTime": {
     "end_time": "2024-06-16T22:35:29.566934Z",
     "start_time": "2024-06-16T22:35:29.553108Z"
    }
   },
   "cell_type": "code",
   "source": "data['image']",
   "id": "64c59543dc76c36e",
   "outputs": [
    {
     "data": {
      "text/plain": [
       "<tf.Tensor: shape=(1024, 32, 32, 3), dtype=float32, numpy=\n",
       "array([[[[0.79215693, 0.7960785 , 0.8117648 ],\n",
       "         [0.78823537, 0.79215693, 0.8078432 ],\n",
       "         [0.7843138 , 0.78823537, 0.80392164],\n",
       "         ...,\n",
       "         [0.9215687 , 0.92549026, 0.9607844 ],\n",
       "         [0.9215687 , 0.9333334 , 0.96470594],\n",
       "         [0.92549026, 0.93725497, 0.9686275 ]],\n",
       "\n",
       "        [[0.75294125, 0.7568628 , 0.7725491 ],\n",
       "         [0.75294125, 0.7568628 , 0.7725491 ],\n",
       "         [0.75294125, 0.7568628 , 0.7725491 ],\n",
       "         ...,\n",
       "         [0.91372555, 0.9176471 , 0.9607844 ],\n",
       "         [0.91372555, 0.92549026, 0.96470594],\n",
       "         [0.9176471 , 0.9294118 , 0.96470594]],\n",
       "\n",
       "        [[0.7372549 , 0.7411765 , 0.7568628 ],\n",
       "         [0.7372549 , 0.7411765 , 0.7568628 ],\n",
       "         [0.7372549 , 0.7411765 , 0.7568628 ],\n",
       "         ...,\n",
       "         [0.9058824 , 0.909804  , 0.9607844 ],\n",
       "         [0.9058824 , 0.91372555, 0.96470594],\n",
       "         [0.909804  , 0.9176471 , 0.96470594]],\n",
       "\n",
       "        ...,\n",
       "\n",
       "        [[0.7960785 , 0.79215693, 0.8117648 ],\n",
       "         [0.7843138 , 0.7803922 , 0.8000001 ],\n",
       "         [0.7725491 , 0.76470596, 0.7843138 ],\n",
       "         ...,\n",
       "         [0.5686275 , 0.5176471 , 0.52156866],\n",
       "         [0.4901961 , 0.43529415, 0.43529415],\n",
       "         [0.44705886, 0.3921569 , 0.38431376]],\n",
       "\n",
       "        [[0.5568628 , 0.627451  , 0.74509805],\n",
       "         [0.6156863 , 0.6745098 , 0.77647066],\n",
       "         [0.654902  , 0.7137255 , 0.78823537],\n",
       "         ...,\n",
       "         [0.6       , 0.54509807, 0.5372549 ],\n",
       "         [0.53333336, 0.47058827, 0.454902  ],\n",
       "         [0.53333336, 0.47450984, 0.44705886]],\n",
       "\n",
       "        [[0.3254902 , 0.52156866, 0.7607844 ],\n",
       "         [0.36078432, 0.53333336, 0.7607844 ],\n",
       "         [0.38431376, 0.56078434, 0.75294125],\n",
       "         ...,\n",
       "         [0.61960787, 0.5568628 , 0.5411765 ],\n",
       "         [0.60784316, 0.5372549 , 0.5137255 ],\n",
       "         [0.65882355, 0.59607846, 0.54901963]]],\n",
       "\n",
       "\n",
       "       [[[0.90196085, 1.        , 1.        ],\n",
       "         [0.8862746 , 0.9843138 , 0.9921569 ],\n",
       "         [0.8862746 , 0.98823535, 0.9921569 ],\n",
       "         ...,\n",
       "         [0.9058824 , 0.98823535, 0.9921569 ],\n",
       "         [0.9058824 , 0.98823535, 0.9921569 ],\n",
       "         [0.9058824 , 0.98823535, 0.9921569 ]],\n",
       "\n",
       "        [[0.92549026, 1.        , 1.        ],\n",
       "         [0.909804  , 0.9960785 , 1.        ],\n",
       "         [0.909804  , 1.        , 1.        ],\n",
       "         ...,\n",
       "         [0.92549026, 1.        , 1.        ],\n",
       "         [0.92549026, 1.        , 1.        ],\n",
       "         [0.92549026, 1.        , 1.        ]],\n",
       "\n",
       "        [[0.9294118 , 1.        , 1.        ],\n",
       "         [0.9176471 , 0.9921569 , 0.9960785 ],\n",
       "         [0.9176471 , 0.9921569 , 0.9960785 ],\n",
       "         ...,\n",
       "         [0.9333334 , 0.9960785 , 0.9921569 ],\n",
       "         [0.9333334 , 0.9960785 , 0.9921569 ],\n",
       "         [0.9333334 , 0.9960785 , 0.9921569 ]],\n",
       "\n",
       "        ...,\n",
       "\n",
       "        [[0.4156863 , 0.53333336, 0.6431373 ],\n",
       "         [0.39607847, 0.5137255 , 0.61960787],\n",
       "         [0.4039216 , 0.52156866, 0.627451  ],\n",
       "         ...,\n",
       "         [0.46274513, 0.6039216 , 0.7176471 ],\n",
       "         [0.48627454, 0.61960787, 0.7372549 ],\n",
       "         [0.49411768, 0.61960787, 0.7411765 ]],\n",
       "\n",
       "        [[0.41176474, 0.53333336, 0.6392157 ],\n",
       "         [0.41176474, 0.5294118 , 0.6313726 ],\n",
       "         [0.4156863 , 0.53333336, 0.63529414],\n",
       "         ...,\n",
       "         [0.4666667 , 0.5921569 , 0.7058824 ],\n",
       "         [0.44705886, 0.5686275 , 0.6862745 ],\n",
       "         [0.454902  , 0.5764706 , 0.6901961 ]],\n",
       "\n",
       "        [[0.41176474, 0.5294118 , 0.63529414],\n",
       "         [0.39607847, 0.5137255 , 0.6117647 ],\n",
       "         [0.3803922 , 0.49803925, 0.6       ],\n",
       "         ...,\n",
       "         [0.45882356, 0.5764706 , 0.6862745 ],\n",
       "         [0.427451  , 0.54509807, 0.654902  ],\n",
       "         [0.41176474, 0.5294118 , 0.6392157 ]]],\n",
       "\n",
       "\n",
       "       [[[0.26666668, 0.3647059 , 0.44705886],\n",
       "         [0.27058825, 0.36862746, 0.45098042],\n",
       "         [0.27058825, 0.37254903, 0.45098042],\n",
       "         ...,\n",
       "         [0.9058824 , 0.91372555, 0.86274517],\n",
       "         [0.8431373 , 0.85098046, 0.80392164],\n",
       "         [0.6784314 , 0.68235296, 0.6509804 ]],\n",
       "\n",
       "        [[0.18823531, 0.28627452, 0.3529412 ],\n",
       "         [0.19215688, 0.2901961 , 0.36078432],\n",
       "         [0.19607845, 0.29803923, 0.36862746],\n",
       "         ...,\n",
       "         [0.8980393 , 0.9058824 , 0.8588236 ],\n",
       "         [0.77647066, 0.7803922 , 0.74509805],\n",
       "         [0.6745098 , 0.6784314 , 0.6431373 ]],\n",
       "\n",
       "        [[0.10196079, 0.17254902, 0.21568629],\n",
       "         [0.10980393, 0.18431373, 0.23137257],\n",
       "         [0.10980393, 0.19607845, 0.2509804 ],\n",
       "         ...,\n",
       "         [0.7960785 , 0.80392164, 0.7686275 ],\n",
       "         [0.69411767, 0.69803923, 0.6745098 ],\n",
       "         [0.654902  , 0.65882355, 0.6313726 ]],\n",
       "\n",
       "        ...,\n",
       "\n",
       "        [[0.01176471, 0.01960784, 0.01568628],\n",
       "         [0.01568628, 0.02352941, 0.01960784],\n",
       "         [0.01176471, 0.01960784, 0.01568628],\n",
       "         ...,\n",
       "         [0.63529414, 0.6392157 , 0.627451  ],\n",
       "         [0.61960787, 0.62352943, 0.6117647 ],\n",
       "         [0.6117647 , 0.6156863 , 0.6039216 ]],\n",
       "\n",
       "        [[0.01176471, 0.01960784, 0.01568628],\n",
       "         [0.01176471, 0.01960784, 0.01568628],\n",
       "         [0.01176471, 0.01960784, 0.01568628],\n",
       "         ...,\n",
       "         [0.654902  , 0.65882355, 0.6392157 ],\n",
       "         [0.654902  , 0.65882355, 0.6431373 ],\n",
       "         [0.6392157 , 0.6431373 , 0.627451  ]],\n",
       "\n",
       "        [[0.01176471, 0.01960784, 0.01568628],\n",
       "         [0.01176471, 0.01960784, 0.01568628],\n",
       "         [0.01176471, 0.01960784, 0.01568628],\n",
       "         ...,\n",
       "         [0.64705884, 0.6509804 , 0.6313726 ],\n",
       "         [0.6509804 , 0.654902  , 0.63529414],\n",
       "         [0.6431373 , 0.6509804 , 0.6313726 ]]],\n",
       "\n",
       "\n",
       "       ...,\n",
       "\n",
       "\n",
       "       [[[0.49803925, 0.5882353 , 0.68235296],\n",
       "         [0.4431373 , 0.6117647 , 0.7058824 ],\n",
       "         [0.4431373 , 0.60784316, 0.6627451 ],\n",
       "         ...,\n",
       "         [0.3803922 , 0.6156863 , 0.64705884],\n",
       "         [0.427451  , 0.5921569 , 0.6627451 ],\n",
       "         [0.6313726 , 0.6431373 , 0.65882355]],\n",
       "\n",
       "        [[0.47058827, 0.5921569 , 0.7411765 ],\n",
       "         [0.37254903, 0.63529414, 0.7803922 ],\n",
       "         [0.33333334, 0.6392157 , 0.7372549 ],\n",
       "         ...,\n",
       "         [0.27058825, 0.6313726 , 0.7137255 ],\n",
       "         [0.3647059 , 0.6039216 , 0.7019608 ],\n",
       "         [0.6784314 , 0.74509805, 0.77647066]],\n",
       "\n",
       "        [[0.454902  , 0.627451  , 0.76470596],\n",
       "         [0.34901962, 0.6666667 , 0.8117648 ],\n",
       "         [0.3254902 , 0.67058825, 0.79215693],\n",
       "         ...,\n",
       "         [0.3137255 , 0.6313726 , 0.7725491 ],\n",
       "         [0.36078432, 0.6313726 , 0.75294125],\n",
       "         [0.6431373 , 0.75294125, 0.7960785 ]],\n",
       "\n",
       "        ...,\n",
       "\n",
       "        [[0.3254902 , 0.45882356, 0.5647059 ],\n",
       "         [0.29411766, 0.48235297, 0.5882353 ],\n",
       "         [0.29803923, 0.48235297, 0.53333336],\n",
       "         ...,\n",
       "         [0.32156864, 0.45882356, 0.45882356],\n",
       "         [0.3372549 , 0.4431373 , 0.44705886],\n",
       "         [0.63529414, 0.6431373 , 0.6509804 ]],\n",
       "\n",
       "        [[0.6431373 , 0.6862745 , 0.7372549 ],\n",
       "         [0.67058825, 0.74509805, 0.7960785 ],\n",
       "         [0.69803923, 0.7490196 , 0.75294125],\n",
       "         ...,\n",
       "         [0.6862745 , 0.7372549 , 0.7294118 ],\n",
       "         [0.70980394, 0.7411765 , 0.7490196 ],\n",
       "         [0.7411765 , 0.69411767, 0.70980394]],\n",
       "\n",
       "        [[0.9725491 , 0.9607844 , 0.96470594],\n",
       "         [1.        , 1.        , 1.        ],\n",
       "         [1.        , 1.        , 0.9725491 ],\n",
       "         ...,\n",
       "         [1.        , 1.        , 0.9921569 ],\n",
       "         [1.        , 0.9843138 , 0.9960785 ],\n",
       "         [0.909804  , 0.8470589 , 0.86666673]]],\n",
       "\n",
       "\n",
       "       [[[0.34117648, 0.45882356, 0.68235296],\n",
       "         [0.34901962, 0.46274513, 0.68235296],\n",
       "         [0.3529412 , 0.4666667 , 0.6901961 ],\n",
       "         ...,\n",
       "         [0.33333334, 0.45098042, 0.67058825],\n",
       "         [0.34901962, 0.46274513, 0.6862745 ],\n",
       "         [0.36862746, 0.48627454, 0.7058824 ]],\n",
       "\n",
       "        [[0.30980393, 0.42352945, 0.64705884],\n",
       "         [0.3019608 , 0.4156863 , 0.63529414],\n",
       "         [0.3137255 , 0.427451  , 0.64705884],\n",
       "         ...,\n",
       "         [0.31764707, 0.43137258, 0.6509804 ],\n",
       "         [0.32156864, 0.43529415, 0.6509804 ],\n",
       "         [0.33333334, 0.44705886, 0.6666667 ]],\n",
       "\n",
       "        [[0.34117648, 0.45882356, 0.6784314 ],\n",
       "         [0.32941177, 0.4431373 , 0.6627451 ],\n",
       "         [0.33333334, 0.44705886, 0.6666667 ],\n",
       "         ...,\n",
       "         [0.3254902 , 0.43921572, 0.65882355],\n",
       "         [0.32156864, 0.43529415, 0.654902  ],\n",
       "         [0.32941177, 0.4431373 , 0.6627451 ]],\n",
       "\n",
       "        ...,\n",
       "\n",
       "        [[0.36078432, 0.4431373 , 0.6156863 ],\n",
       "         [0.36078432, 0.4431373 , 0.6117647 ],\n",
       "         [0.36862746, 0.45098042, 0.61960787],\n",
       "         ...,\n",
       "         [0.4156863 , 0.48235297, 0.6392157 ],\n",
       "         [0.43529415, 0.5058824 , 0.6627451 ],\n",
       "         [0.427451  , 0.49803925, 0.654902  ]],\n",
       "\n",
       "        [[0.38431376, 0.4666667 , 0.6392157 ],\n",
       "         [0.4039216 , 0.48627454, 0.6509804 ],\n",
       "         [0.40784317, 0.4901961 , 0.65882355],\n",
       "         ...,\n",
       "         [0.38823533, 0.45882356, 0.6156863 ],\n",
       "         [0.39607847, 0.4666667 , 0.62352943],\n",
       "         [0.41176474, 0.48235297, 0.6392157 ]],\n",
       "\n",
       "        [[0.37647063, 0.45882356, 0.627451  ],\n",
       "         [0.37254903, 0.454902  , 0.62352943],\n",
       "         [0.37254903, 0.45882356, 0.62352943],\n",
       "         ...,\n",
       "         [0.4039216 , 0.47450984, 0.6313726 ],\n",
       "         [0.4156863 , 0.48627454, 0.6431373 ],\n",
       "         [0.427451  , 0.49803925, 0.654902  ]]],\n",
       "\n",
       "\n",
       "       [[[0.96470594, 0.9333334 , 0.92549026],\n",
       "         [0.9568628 , 0.92549026, 0.9176471 ],\n",
       "         [0.96470594, 0.9333334 , 0.9215687 ],\n",
       "         ...,\n",
       "         [0.6745098 , 0.60784316, 0.59607846],\n",
       "         [0.6745098 , 0.60784316, 0.5921569 ],\n",
       "         [0.67058825, 0.6039216 , 0.5921569 ]],\n",
       "\n",
       "        [[0.94117653, 0.909804  , 0.90196085],\n",
       "         [0.93725497, 0.9058824 , 0.8980393 ],\n",
       "         [0.9450981 , 0.91372555, 0.9058824 ],\n",
       "         ...,\n",
       "         [0.654902  , 0.60784316, 0.59607846],\n",
       "         [0.654902  , 0.60784316, 0.5803922 ],\n",
       "         [0.654902  , 0.60784316, 0.5921569 ]],\n",
       "\n",
       "        [[0.94117653, 0.909804  , 0.90196085],\n",
       "         [0.93725497, 0.9058824 , 0.8980393 ],\n",
       "         [0.9450981 , 0.91372555, 0.9058824 ],\n",
       "         ...,\n",
       "         [0.5568628 , 0.5137255 , 0.5294118 ],\n",
       "         [0.5568628 , 0.5176471 , 0.5254902 ],\n",
       "         [0.54509807, 0.50980395, 0.48627454]],\n",
       "\n",
       "        ...,\n",
       "\n",
       "        [[1.        , 0.9921569 , 0.9450981 ],\n",
       "         [1.        , 0.9921569 , 0.9450981 ],\n",
       "         [1.        , 0.9921569 , 0.9450981 ],\n",
       "         ...,\n",
       "         [0.9490197 , 0.9490197 , 0.9215687 ],\n",
       "         [0.9607844 , 0.9686275 , 0.92549026],\n",
       "         [0.97647065, 0.9803922 , 0.93725497]],\n",
       "\n",
       "        [[1.        , 1.        , 0.95294124],\n",
       "         [1.        , 0.9921569 , 0.9450981 ],\n",
       "         [1.        , 0.9921569 , 0.9450981 ],\n",
       "         ...,\n",
       "         [0.9960785 , 1.        , 0.9490197 ],\n",
       "         [0.9921569 , 1.        , 0.9333334 ],\n",
       "         [0.9921569 , 1.        , 0.9333334 ]],\n",
       "\n",
       "        [[1.        , 1.        , 0.95294124],\n",
       "         [1.        , 0.9921569 , 0.9450981 ],\n",
       "         [1.        , 0.9921569 , 0.9450981 ],\n",
       "         ...,\n",
       "         [0.98823535, 0.9921569 , 0.9568628 ],\n",
       "         [0.98823535, 0.9960785 , 0.9490197 ],\n",
       "         [0.98823535, 0.9960785 , 0.9450981 ]]]], dtype=float32)>"
      ]
     },
     "execution_count": 14,
     "metadata": {},
     "output_type": "execute_result"
    }
   ],
   "execution_count": 14
  },
  {
   "metadata": {
    "ExecuteTime": {
     "end_time": "2024-06-16T22:34:04.613355Z",
     "start_time": "2024-06-16T22:34:02.332474Z"
    }
   },
   "cell_type": "code",
   "source": [
    "import os\n",
    "import pandas as pd\n",
    "from torch.utils.data import Dataset\n",
    "import numpy as np\n",
    "from PIL import Image\n",
    "\n",
    "\n",
    "class FaceDataset(Dataset):\n",
    "    # https://www.kaggle.com/competitions/challenges-in-representation-learning-facial-expression-recognition-challenge/data?select=icml_face_data.csv\n",
    "    def __init__(\n",
    "        self,\n",
    "        df,\n",
    "        transform=None,\n",
    "    ):\n",
    "        self.df = df.to_dict(\"records\")\n",
    "\n",
    "        self.transform = transform\n",
    "\n",
    "    def __len__(self):\n",
    "        return len(self.df)\n",
    "\n",
    "    def __getitem__(self, idx):\n",
    "        row = self.df[idx]\n",
    "\n",
    "        label = row[\"emotion\"]\n",
    "        pixels = row[\" pixels\"]\n",
    "\n",
    "        pixels = np.array(pixels.split()).astype(int)\n",
    "        pixels = np.reshape(pixels, (48, 48))\n",
    "        pixels = np.expand_dims(pixels, axis=-1)\n",
    "        image = np.repeat(pixels, 3, axis=-1)\n",
    "        image = np.uint8(image)\n",
    "        image = Image.fromarray(image)\n",
    "\n",
    "        if self.transform:\n",
    "            image = self.transform(image)\n",
    "\n",
    "        return image, label\n",
    "\n",
    "df = pd.read_csv(\"data/icml_face_data.csv\")\n",
    "\n",
    "face_datset = FaceDataset(df=df)\n",
    "\n",
    "\n",
    "\n",
    "\n",
    "\n"
   ],
   "id": "2f85b9475bb30ddd",
   "outputs": [],
   "execution_count": 7
  },
  {
   "metadata": {
    "ExecuteTime": {
     "end_time": "2024-06-16T22:34:52.921572Z",
     "start_time": "2024-06-16T22:34:47.156560Z"
    }
   },
   "cell_type": "code",
   "source": [
    "from tqdm import tqdm \n",
    "\n",
    "images = []\n",
    "labels = [] \n",
    "\n",
    "for data in tqdm(face_datset):\n",
    "    data[0]\n",
    "    \n",
    "    break \n",
    "i\n",
    "\n"
   ],
   "id": "67046d402a291525",
   "outputs": [
    {
     "name": "stderr",
     "output_type": "stream",
     "text": [
      " 18%|█▊        | 6629/35887 [00:05<00:23, 1223.97it/s]\n"
     ]
    },
    {
     "ename": "KeyboardInterrupt",
     "evalue": "",
     "output_type": "error",
     "traceback": [
      "\u001B[1;31m---------------------------------------------------------------------------\u001B[0m",
      "\u001B[1;31mKeyboardInterrupt\u001B[0m                         Traceback (most recent call last)",
      "Cell \u001B[1;32mIn[13], line 3\u001B[0m\n\u001B[0;32m      1\u001B[0m \u001B[38;5;28;01mfrom\u001B[39;00m \u001B[38;5;21;01mtqdm\u001B[39;00m \u001B[38;5;28;01mimport\u001B[39;00m tqdm \n\u001B[1;32m----> 3\u001B[0m \u001B[38;5;28;01mfor\u001B[39;00m i \u001B[38;5;129;01min\u001B[39;00m tqdm(face_datset):\n\u001B[0;32m      4\u001B[0m     \u001B[38;5;28;01mpass\u001B[39;00m \n\u001B[0;32m      5\u001B[0m i\n",
      "File \u001B[1;32m~\\PycharmProjects\\ProblematicSelfSupervisedOOD\\venv\\lib\\site-packages\\tqdm\\std.py:1178\u001B[0m, in \u001B[0;36mtqdm.__iter__\u001B[1;34m(self)\u001B[0m\n\u001B[0;32m   1175\u001B[0m time \u001B[38;5;241m=\u001B[39m \u001B[38;5;28mself\u001B[39m\u001B[38;5;241m.\u001B[39m_time\n\u001B[0;32m   1177\u001B[0m \u001B[38;5;28;01mtry\u001B[39;00m:\n\u001B[1;32m-> 1178\u001B[0m     \u001B[38;5;28;01mfor\u001B[39;00m obj \u001B[38;5;129;01min\u001B[39;00m iterable:\n\u001B[0;32m   1179\u001B[0m         \u001B[38;5;28;01myield\u001B[39;00m obj\n\u001B[0;32m   1180\u001B[0m         \u001B[38;5;66;03m# Update and possibly print the progressbar.\u001B[39;00m\n\u001B[0;32m   1181\u001B[0m         \u001B[38;5;66;03m# Note: does not call self.update(1) for speed optimisation.\u001B[39;00m\n",
      "Cell \u001B[1;32mIn[7], line 33\u001B[0m, in \u001B[0;36mFaceDataset.__getitem__\u001B[1;34m(self, idx)\u001B[0m\n\u001B[0;32m     31\u001B[0m image \u001B[38;5;241m=\u001B[39m np\u001B[38;5;241m.\u001B[39mrepeat(pixels, \u001B[38;5;241m3\u001B[39m, axis\u001B[38;5;241m=\u001B[39m\u001B[38;5;241m-\u001B[39m\u001B[38;5;241m1\u001B[39m)\n\u001B[0;32m     32\u001B[0m image \u001B[38;5;241m=\u001B[39m np\u001B[38;5;241m.\u001B[39muint8(image)\n\u001B[1;32m---> 33\u001B[0m image \u001B[38;5;241m=\u001B[39m \u001B[43mImage\u001B[49m\u001B[38;5;241;43m.\u001B[39;49m\u001B[43mfromarray\u001B[49m\u001B[43m(\u001B[49m\u001B[43mimage\u001B[49m\u001B[43m)\u001B[49m\n\u001B[0;32m     35\u001B[0m \u001B[38;5;28;01mif\u001B[39;00m \u001B[38;5;28mself\u001B[39m\u001B[38;5;241m.\u001B[39mtransform:\n\u001B[0;32m     36\u001B[0m     image \u001B[38;5;241m=\u001B[39m \u001B[38;5;28mself\u001B[39m\u001B[38;5;241m.\u001B[39mtransform(image)\n",
      "File \u001B[1;32m~\\PycharmProjects\\ProblematicSelfSupervisedOOD\\venv\\lib\\site-packages\\PIL\\Image.py:3112\u001B[0m, in \u001B[0;36mfromarray\u001B[1;34m(obj, mode)\u001B[0m\n\u001B[0;32m   3109\u001B[0m     \u001B[38;5;28;01melse\u001B[39;00m:\n\u001B[0;32m   3110\u001B[0m         obj \u001B[38;5;241m=\u001B[39m obj\u001B[38;5;241m.\u001B[39mtostring()\n\u001B[1;32m-> 3112\u001B[0m \u001B[38;5;28;01mreturn\u001B[39;00m \u001B[43mfrombuffer\u001B[49m\u001B[43m(\u001B[49m\u001B[43mmode\u001B[49m\u001B[43m,\u001B[49m\u001B[43m \u001B[49m\u001B[43msize\u001B[49m\u001B[43m,\u001B[49m\u001B[43m \u001B[49m\u001B[43mobj\u001B[49m\u001B[43m,\u001B[49m\u001B[43m \u001B[49m\u001B[38;5;124;43m\"\u001B[39;49m\u001B[38;5;124;43mraw\u001B[39;49m\u001B[38;5;124;43m\"\u001B[39;49m\u001B[43m,\u001B[49m\u001B[43m \u001B[49m\u001B[43mrawmode\u001B[49m\u001B[43m,\u001B[49m\u001B[43m \u001B[49m\u001B[38;5;241;43m0\u001B[39;49m\u001B[43m,\u001B[49m\u001B[43m \u001B[49m\u001B[38;5;241;43m1\u001B[39;49m\u001B[43m)\u001B[49m\n",
      "File \u001B[1;32m~\\PycharmProjects\\ProblematicSelfSupervisedOOD\\venv\\lib\\site-packages\\PIL\\Image.py:3028\u001B[0m, in \u001B[0;36mfrombuffer\u001B[1;34m(mode, size, data, decoder_name, *args)\u001B[0m\n\u001B[0;32m   3025\u001B[0m         im\u001B[38;5;241m.\u001B[39mreadonly \u001B[38;5;241m=\u001B[39m \u001B[38;5;241m1\u001B[39m\n\u001B[0;32m   3026\u001B[0m         \u001B[38;5;28;01mreturn\u001B[39;00m im\n\u001B[1;32m-> 3028\u001B[0m \u001B[38;5;28;01mreturn\u001B[39;00m \u001B[43mfrombytes\u001B[49m\u001B[43m(\u001B[49m\u001B[43mmode\u001B[49m\u001B[43m,\u001B[49m\u001B[43m \u001B[49m\u001B[43msize\u001B[49m\u001B[43m,\u001B[49m\u001B[43m \u001B[49m\u001B[43mdata\u001B[49m\u001B[43m,\u001B[49m\u001B[43m \u001B[49m\u001B[43mdecoder_name\u001B[49m\u001B[43m,\u001B[49m\u001B[43m \u001B[49m\u001B[43margs\u001B[49m\u001B[43m)\u001B[49m\n",
      "File \u001B[1;32m~\\PycharmProjects\\ProblematicSelfSupervisedOOD\\venv\\lib\\site-packages\\PIL\\Image.py:2970\u001B[0m, in \u001B[0;36mfrombytes\u001B[1;34m(mode, size, data, decoder_name, *args)\u001B[0m\n\u001B[0;32m   2967\u001B[0m     args \u001B[38;5;241m=\u001B[39m mode\n\u001B[0;32m   2969\u001B[0m im \u001B[38;5;241m=\u001B[39m new(mode, size)\n\u001B[1;32m-> 2970\u001B[0m \u001B[43mim\u001B[49m\u001B[38;5;241;43m.\u001B[39;49m\u001B[43mfrombytes\u001B[49m\u001B[43m(\u001B[49m\u001B[43mdata\u001B[49m\u001B[43m,\u001B[49m\u001B[43m \u001B[49m\u001B[43mdecoder_name\u001B[49m\u001B[43m,\u001B[49m\u001B[43m \u001B[49m\u001B[43margs\u001B[49m\u001B[43m)\u001B[49m\n\u001B[0;32m   2971\u001B[0m \u001B[38;5;28;01mreturn\u001B[39;00m im\n",
      "File \u001B[1;32m~\\PycharmProjects\\ProblematicSelfSupervisedOOD\\venv\\lib\\site-packages\\PIL\\Image.py:822\u001B[0m, in \u001B[0;36mImage.frombytes\u001B[1;34m(self, data, decoder_name, *args)\u001B[0m\n\u001B[0;32m    820\u001B[0m d \u001B[38;5;241m=\u001B[39m _getdecoder(\u001B[38;5;28mself\u001B[39m\u001B[38;5;241m.\u001B[39mmode, decoder_name, args)\n\u001B[0;32m    821\u001B[0m d\u001B[38;5;241m.\u001B[39msetimage(\u001B[38;5;28mself\u001B[39m\u001B[38;5;241m.\u001B[39mim)\n\u001B[1;32m--> 822\u001B[0m s \u001B[38;5;241m=\u001B[39m \u001B[43md\u001B[49m\u001B[38;5;241;43m.\u001B[39;49m\u001B[43mdecode\u001B[49m\u001B[43m(\u001B[49m\u001B[43mdata\u001B[49m\u001B[43m)\u001B[49m\n\u001B[0;32m    824\u001B[0m \u001B[38;5;28;01mif\u001B[39;00m s[\u001B[38;5;241m0\u001B[39m] \u001B[38;5;241m>\u001B[39m\u001B[38;5;241m=\u001B[39m \u001B[38;5;241m0\u001B[39m:\n\u001B[0;32m    825\u001B[0m     msg \u001B[38;5;241m=\u001B[39m \u001B[38;5;124m\"\u001B[39m\u001B[38;5;124mnot enough image data\u001B[39m\u001B[38;5;124m\"\u001B[39m\n",
      "\u001B[1;31mKeyboardInterrupt\u001B[0m: "
     ]
    }
   ],
   "execution_count": 13
  },
  {
   "metadata": {
    "ExecuteTime": {
     "end_time": "2024-06-16T21:41:58.977089Z",
     "start_time": "2024-06-16T21:41:58.966066Z"
    }
   },
   "cell_type": "code",
   "source": "",
   "id": "132c849a6473ebf",
   "outputs": [
    {
     "data": {
      "text/plain": [
       "{8: 0, 1: 1, 5: 2, 0: 3, 7: 4, 2: 5, 9: 6, 4: 7}"
      ]
     },
     "execution_count": 53,
     "metadata": {},
     "output_type": "execute_result"
    }
   ],
   "execution_count": 53
  },
  {
   "metadata": {
    "ExecuteTime": {
     "end_time": "2024-06-16T21:42:31.408546Z",
     "start_time": "2024-06-16T21:42:31.285085Z"
    }
   },
   "cell_type": "code",
   "source": [
    "\n",
    "\n"
   ],
   "id": "81eaaa55b795b0f2",
   "outputs": [
    {
     "data": {
      "text/plain": [
       "1024"
      ]
     },
     "execution_count": 55,
     "metadata": {},
     "output_type": "execute_result"
    }
   ],
   "execution_count": 55
  },
  {
   "metadata": {
    "ExecuteTime": {
     "end_time": "2024-06-16T21:51:39.654759Z",
     "start_time": "2024-06-16T21:51:39.204045Z"
    }
   },
   "cell_type": "code",
   "source": "",
   "id": "134de6a7b27ace",
   "outputs": [
    {
     "data": {
      "text/plain": [
       "Unique(y=<tf.Tensor: shape=(2,), dtype=int64, numpy=array([3, 6], dtype=int64)>, idx=<tf.Tensor: shape=(1024,), dtype=int32, numpy=array([0, 0, 1, ..., 1, 0, 1])>)"
      ]
     },
     "execution_count": 66,
     "metadata": {},
     "output_type": "execute_result"
    }
   ],
   "execution_count": 66
  },
  {
   "metadata": {
    "ExecuteTime": {
     "end_time": "2024-06-16T21:43:38.933494Z",
     "start_time": "2024-06-16T21:43:38.915478Z"
    }
   },
   "cell_type": "code",
   "source": "",
   "id": "79efae59a2029709",
   "outputs": [
    {
     "data": {
      "text/plain": [
       "<tf.Tensor: shape=(), dtype=bool, numpy=True>"
      ]
     },
     "execution_count": 63,
     "metadata": {},
     "output_type": "execute_result"
    }
   ],
   "execution_count": 63
  }
 ],
 "metadata": {
  "kernelspec": {
   "display_name": "Python 3",
   "language": "python",
   "name": "python3"
  },
  "language_info": {
   "codemirror_mode": {
    "name": "ipython",
    "version": 2
   },
   "file_extension": ".py",
   "mimetype": "text/x-python",
   "name": "python",
   "nbconvert_exporter": "python",
   "pygments_lexer": "ipython2",
   "version": "2.7.6"
  }
 },
 "nbformat": 4,
 "nbformat_minor": 5
}
