{
 "cells": [
  {
   "cell_type": "code",
   "id": "initial_id",
   "metadata": {
    "collapsed": true,
    "ExecuteTime": {
     "end_time": "2024-07-02T21:19:51.993736Z",
     "start_time": "2024-07-02T21:19:42.155958Z"
    }
   },
   "source": [
    "# coding=utf-8\n",
    "# Copyright 2020 The Google Research Authors.\n",
    "#\n",
    "# Licensed under the Apache License, Version 2.0 (the \"License\");\n",
    "# you may not use this file except in compliance with the License.\n",
    "# You may obtain a copy of the License at\n",
    "#\n",
    "#     http://www.apache.org/licenses/LICENSE-2.0\n",
    "#\n",
    "# Unless required by applicable law or agreed to in writing, software\n",
    "# distributed under the License is distributed on an \"AS IS\" BASIS,\n",
    "# WITHOUT WARRANTIES OR CONDITIONS OF ANY KIND, either express or implied.\n",
    "# See the License for the specific language governing permissions and\n",
    "# limitations under the License.\n",
    "\n",
    "\"\"\"Training and evaluation\"\"\"\n",
    "\n",
    "from absl import app\n",
    "from absl import flags\n",
    "from ml_collections.config_flags import config_flags\n",
    "import logging\n",
    "import os\n",
    "import tensorflow as tf\n",
    "import sys \n",
    "import datasets \n",
    "\n",
    "# sys.argv = = [ '--dataset', 'SMD', '--q', '0.005']\n",
    "\n",
    "# sys.argv = ['--workdir',  'results/cifar10/', '--config', 'configs/subvp/cifar10_ddpm_continuous.py',  '--mode', 'train']\n",
    "# \n",
    "#         \n",
    "\n",
    "from configs.adj.cifar10_configs_0_id import get_default_configs\n",
    "import tensorflow_datasets as tfds \n",
    "from tqdm import tqdm \n",
    "\n",
    "config = get_default_configs()\n",
    "\n",
    "# config.data.dataset = 'CIFAR10_ADJ_ID_1'\n",
    "\n",
    "# train_ds, eval_ds, _ = datasets.get_dataset(config,\n",
    "#                                   uniform_dequantization=config.data.uniform_dequantization, \n",
    "#                                             evaluation=True, \n",
    "#                                             recon=True\n",
    "#                                             )\n",
    "\n",
    "\n"
   ],
   "outputs": [
    {
     "name": "stdout",
     "output_type": "stream",
     "text": [
      "WARNING:tensorflow:From C:\\Users\\HongM\\PycharmProjects\\ProblematicSelfSupervisedOOD\\venv\\lib\\site-packages\\keras\\src\\losses.py:2976: The name tf.losses.sparse_softmax_cross_entropy is deprecated. Please use tf.compat.v1.losses.sparse_softmax_cross_entropy instead.\n",
      "\n"
     ]
    }
   ],
   "execution_count": 1
  },
  {
   "metadata": {
    "ExecuteTime": {
     "end_time": "2024-07-09T21:36:27.729554Z",
     "start_time": "2024-07-09T21:36:19.600409Z"
    }
   },
   "cell_type": "code",
   "source": [
    "import pandas as pd \n",
    "\n",
    "\n",
    "# ds = tfds.load('cars196', split='train', shuffle_files=True)\n",
    "# \n",
    "# \n",
    "\n"
   ],
   "id": "89cb5bfd10a5cc47",
   "outputs": [],
   "execution_count": 1
  },
  {
   "metadata": {
    "ExecuteTime": {
     "end_time": "2024-07-02T21:32:24.095175Z",
     "start_time": "2024-07-02T21:32:24.075175Z"
    }
   },
   "cell_type": "code",
   "source": "",
   "id": "e4f4f479ca7a856",
   "outputs": [
    {
     "data": {
      "text/plain": [
       "<_MapDataset element_spec={'image': TensorSpec(shape=(48, 48, 3), dtype=tf.uint8, name=None), 'label': TensorSpec(shape=(), dtype=tf.int32, name=None), 'split': TensorSpec(shape=(), dtype=tf.string, name=None)}>"
      ]
     },
     "execution_count": 25,
     "metadata": {},
     "output_type": "execute_result"
    }
   ],
   "execution_count": 25
  },
  {
   "metadata": {
    "ExecuteTime": {
     "end_time": "2024-07-02T21:29:22.533012Z",
     "start_time": "2024-07-02T21:29:22.518504Z"
    }
   },
   "cell_type": "code",
   "source": "",
   "id": "9bd7d6f5a8e4bde7",
   "outputs": [],
   "execution_count": 23
  },
  {
   "metadata": {
    "ExecuteTime": {
     "end_time": "2024-07-02T21:29:20.610235Z",
     "start_time": "2024-07-02T21:29:20.605209Z"
    }
   },
   "cell_type": "code",
   "source": "                 ",
   "id": "6399c7874997cd00",
   "outputs": [],
   "execution_count": 23
  }
 ],
 "metadata": {
  "kernelspec": {
   "display_name": "Python 3",
   "language": "python",
   "name": "python3"
  },
  "language_info": {
   "codemirror_mode": {
    "name": "ipython",
    "version": 2
   },
   "file_extension": ".py",
   "mimetype": "text/x-python",
   "name": "python",
   "nbconvert_exporter": "python",
   "pygments_lexer": "ipython2",
   "version": "2.7.6"
  }
 },
 "nbformat": 4,
 "nbformat_minor": 5
}
