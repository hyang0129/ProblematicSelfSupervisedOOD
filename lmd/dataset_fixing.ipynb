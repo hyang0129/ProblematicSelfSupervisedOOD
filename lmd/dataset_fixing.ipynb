{
 "cells": [
  {
   "cell_type": "code",
   "id": "initial_id",
   "metadata": {
    "collapsed": true,
    "ExecuteTime": {
     "end_time": "2024-07-10T18:23:48.749828Z",
     "start_time": "2024-07-10T18:23:29.288190Z"
    }
   },
   "source": [
    "# coding=utf-8\n",
    "# Copyright 2020 The Google Research Authors.\n",
    "#\n",
    "# Licensed under the Apache License, Version 2.0 (the \"License\");\n",
    "# you may not use this file except in compliance with the License.\n",
    "# You may obtain a copy of the License at\n",
    "#\n",
    "#     http://www.apache.org/licenses/LICENSE-2.0\n",
    "#\n",
    "# Unless required by applicable law or agreed to in writing, software\n",
    "# distributed under the License is distributed on an \"AS IS\" BASIS,\n",
    "# WITHOUT WARRANTIES OR CONDITIONS OF ANY KIND, either express or implied.\n",
    "# See the License for the specific language governing permissions and\n",
    "# limitations under the License.\n",
    "\n",
    "\"\"\"Training and evaluation\"\"\"\n",
    "\n",
    "from absl import app\n",
    "from absl import flags\n",
    "from ml_collections.config_flags import config_flags\n",
    "import logging\n",
    "import os\n",
    "import tensorflow as tf\n",
    "import sys \n",
    "import datasets \n",
    "\n",
    "# sys.argv = = [ '--dataset', 'SMD', '--q', '0.005']\n",
    "\n",
    "# sys.argv = ['--workdir',  'results/cifar10/', '--config', 'configs/subvp/cifar10_ddpm_continuous.py',  '--mode', 'train']\n",
    "# \n",
    "#         \n",
    "\n",
    "from configs.adj.cifar10_configs_0_id import get_default_configs\n",
    "import tensorflow_datasets as tfds \n",
    "from tqdm import tqdm \n",
    "\n",
    "config = get_default_configs()\n",
    "\n",
    "config.data.dataset = 'ICML_FACE_ADJ_ID_0'\n",
    "\n",
    "train_ds, eval_ds, _ = datasets.get_dataset(config,\n",
    "                                  uniform_dequantization=config.data.uniform_dequantization, \n",
    "                                            evaluation=True, \n",
    "                                            recon=True\n",
    "                                            )\n",
    "\n",
    "\n"
   ],
   "outputs": [
    {
     "name": "stdout",
     "output_type": "stream",
     "text": [
      "WARNING:tensorflow:From C:\\Users\\HongM\\PycharmProjects\\ProblematicSelfSupervisedOOD\\venv\\lib\\site-packages\\keras\\src\\losses.py:2976: The name tf.losses.sparse_softmax_cross_entropy is deprecated. Please use tf.compat.v1.losses.sparse_softmax_cross_entropy instead.\n",
      "\n"
     ]
    },
    {
     "name": "stderr",
     "output_type": "stream",
     "text": [
      "WARNING:absl:options.experimental_threading is deprecated. Use options.threading instead.\n",
      "WARNING:absl:options.experimental_threading is deprecated. Use options.threading instead.\n",
      "WARNING:absl:options.experimental_threading is deprecated. Use options.threading instead.\n",
      "WARNING:absl:options.experimental_threading is deprecated. Use options.threading instead.\n",
      "WARNING:absl:options.experimental_threading is deprecated. Use options.threading instead.\n",
      "WARNING:absl:options.experimental_threading is deprecated. Use options.threading instead.\n"
     ]
    },
    {
     "name": "stdout",
     "output_type": "stream",
     "text": [
      "building train\n",
      "building test\n",
      "splits done\n",
      "Applying Filters for Adjacent OOD Benchmark\n",
      "In distribution classes are [0, 1, 2, 3, 6]\n"
     ]
    }
   ],
   "execution_count": 1
  },
  {
   "metadata": {
    "ExecuteTime": {
     "end_time": "2024-07-16T20:23:48.639047Z",
     "start_time": "2024-07-16T20:23:45.464088Z"
    }
   },
   "cell_type": "code",
   "source": "",
   "id": "6c966fe1bbcc54b9",
   "outputs": [
    {
     "name": "stderr",
     "output_type": "stream",
     "text": [
      "wandb: W&B API key is configured. Use `wandb login --relogin` to force relogin\n",
      "wandb: WARNING If you're specifying your api key in code, ensure this code is not shared publicly.\n",
      "wandb: WARNING Consider setting the WANDB_API_KEY environment variable, or running `wandb login` from the command line.\n",
      "wandb: Appending key for api.wandb.ai to your netrc file: C:\\Users\\HongM\\_netrc\n"
     ]
    },
    {
     "data": {
      "text/plain": [
       "True"
      ]
     },
     "execution_count": 2,
     "metadata": {},
     "output_type": "execute_result"
    }
   ],
   "execution_count": 2
  },
  {
   "metadata": {
    "ExecuteTime": {
     "end_time": "2024-07-16T20:35:56.339089Z",
     "start_time": "2024-07-16T20:35:49.408621Z"
    }
   },
   "cell_type": "code",
   "source": "",
   "id": "e4e912fb5324ace2",
   "outputs": [
    {
     "data": {
      "text/plain": [
       "<IPython.core.display.HTML object>"
      ],
      "text/html": [
       "Finishing last run (ID:xs4tes5f) before initializing another..."
      ]
     },
     "metadata": {},
     "output_type": "display_data"
    },
    {
     "data": {
      "text/plain": [
       "VBox(children=(Label(value='0.001 MB of 0.001 MB uploaded\\r'), FloatProgress(value=1.0, max=1.0)))"
      ],
      "application/vnd.jupyter.widget-view+json": {
       "version_major": 2,
       "version_minor": 0,
       "model_id": "f07d0af1e64e4e7d97e4769ecd33a5a5"
      }
     },
     "metadata": {},
     "output_type": "display_data"
    },
    {
     "data": {
      "text/plain": [
       "<IPython.core.display.HTML object>"
      ],
      "text/html": [
       " View run <strong style=\"color:#cdcd00\">testing</strong> at: <a href='https://wandb.ai/hy3134-rochester-institute-of-technology/unsuper/runs/xs4tes5f' target=\"_blank\">https://wandb.ai/hy3134-rochester-institute-of-technology/unsuper/runs/xs4tes5f</a><br/> View project at: <a href='https://wandb.ai/hy3134-rochester-institute-of-technology/unsuper' target=\"_blank\">https://wandb.ai/hy3134-rochester-institute-of-technology/unsuper</a><br/>Synced 5 W&B file(s), 0 media file(s), 2 artifact file(s) and 0 other file(s)"
      ]
     },
     "metadata": {},
     "output_type": "display_data"
    },
    {
     "data": {
      "text/plain": [
       "<IPython.core.display.HTML object>"
      ],
      "text/html": [
       "Find logs at: <code>.\\wandb\\run-20240716_163153-xs4tes5f\\logs</code>"
      ]
     },
     "metadata": {},
     "output_type": "display_data"
    },
    {
     "data": {
      "text/plain": [
       "<IPython.core.display.HTML object>"
      ],
      "text/html": [
       "The new W&B backend becomes opt-out in version 0.18.0; try it out with `wandb.require(\"core\")`! See https://wandb.me/wandb-core for more information."
      ]
     },
     "metadata": {},
     "output_type": "display_data"
    },
    {
     "data": {
      "text/plain": [
       "<IPython.core.display.HTML object>"
      ],
      "text/html": [
       "Successfully finished last run (ID:xs4tes5f). Initializing new run:<br/>"
      ]
     },
     "metadata": {},
     "output_type": "display_data"
    },
    {
     "data": {
      "text/plain": [
       "VBox(children=(Label(value='Waiting for wandb.init()...\\r'), FloatProgress(value=0.011288888888925108, max=1.0…"
      ],
      "application/vnd.jupyter.widget-view+json": {
       "version_major": 2,
       "version_minor": 0,
       "model_id": "4850754a8f4c470fa5f8edbe48db012f"
      }
     },
     "metadata": {},
     "output_type": "display_data"
    },
    {
     "data": {
      "text/plain": [
       "<IPython.core.display.HTML object>"
      ],
      "text/html": [
       "Tracking run with wandb version 0.17.4"
      ]
     },
     "metadata": {},
     "output_type": "display_data"
    },
    {
     "data": {
      "text/plain": [
       "<IPython.core.display.HTML object>"
      ],
      "text/html": [
       "Run data is saved locally in <code>C:\\Users\\HongM\\PycharmProjects\\ProblematicSelfSupervisedOOD\\lmd\\wandb\\run-20240716_163549-1l1skfja</code>"
      ]
     },
     "metadata": {},
     "output_type": "display_data"
    },
    {
     "data": {
      "text/plain": [
       "<IPython.core.display.HTML object>"
      ],
      "text/html": [
       "Syncing run <strong><a href='https://wandb.ai/hy3134-rochester-institute-of-technology/unsuper/runs/1l1skfja' target=\"_blank\">testing2</a></strong> to <a href='https://wandb.ai/hy3134-rochester-institute-of-technology/unsuper' target=\"_blank\">Weights & Biases</a> (<a href='https://wandb.me/run' target=\"_blank\">docs</a>)<br/>"
      ]
     },
     "metadata": {},
     "output_type": "display_data"
    },
    {
     "data": {
      "text/plain": [
       "<IPython.core.display.HTML object>"
      ],
      "text/html": [
       " View project at <a href='https://wandb.ai/hy3134-rochester-institute-of-technology/unsuper' target=\"_blank\">https://wandb.ai/hy3134-rochester-institute-of-technology/unsuper</a>"
      ]
     },
     "metadata": {},
     "output_type": "display_data"
    },
    {
     "data": {
      "text/plain": [
       "<IPython.core.display.HTML object>"
      ],
      "text/html": [
       " View run at <a href='https://wandb.ai/hy3134-rochester-institute-of-technology/unsuper/runs/1l1skfja' target=\"_blank\">https://wandb.ai/hy3134-rochester-institute-of-technology/unsuper/runs/1l1skfja</a>"
      ]
     },
     "metadata": {},
     "output_type": "display_data"
    }
   ],
   "execution_count": 4
  },
  {
   "metadata": {
    "ExecuteTime": {
     "end_time": "2024-07-16T20:38:53.462956Z",
     "start_time": "2024-07-16T20:38:41.194283Z"
    }
   },
   "cell_type": "code",
   "source": "",
   "id": "d076ddc093f11acc",
   "outputs": [
    {
     "name": "stdout",
     "output_type": "stream",
     "text": [
      "test\n"
     ]
    },
    {
     "data": {
      "text/plain": [
       "VBox(children=(Label(value='0.005 MB of 0.005 MB uploaded\\r'), FloatProgress(value=1.0, max=1.0)))"
      ],
      "application/vnd.jupyter.widget-view+json": {
       "version_major": 2,
       "version_minor": 0,
       "model_id": "80132679c4aa4d8fa1de5f2b8ad7aa0c"
      }
     },
     "metadata": {},
     "output_type": "display_data"
    },
    {
     "data": {
      "text/plain": [
       "<IPython.core.display.HTML object>"
      ],
      "text/html": [
       "W&B sync reduced upload amount by 20.6%             "
      ]
     },
     "metadata": {},
     "output_type": "display_data"
    },
    {
     "data": {
      "text/plain": [
       "<IPython.core.display.HTML object>"
      ],
      "text/html": [
       "<style>\n",
       "    table.wandb td:nth-child(1) { padding: 0 10px; text-align: left ; width: auto;} td:nth-child(2) {text-align: left ; width: 100%}\n",
       "    .wandb-row { display: flex; flex-direction: row; flex-wrap: wrap; justify-content: flex-start; width: 100% }\n",
       "    .wandb-col { display: flex; flex-direction: column; flex-basis: 100%; flex: 1; padding: 10px; }\n",
       "    </style>\n",
       "<div class=\"wandb-row\"><div class=\"wandb-col\"><h3>Run history:</h3><br/><table class=\"wandb\"><tr><td>info</td><td>▁▁▁▁▁▁▁▁▁▁▁▁▁▁▁▁▁▁▁▁▁▁▁▁▁▁▁▁▁▁▁▁▁▁▁▁▁▁▁▁</td></tr></table><br/></div><div class=\"wandb-col\"><h3>Run summary:</h3><br/><table class=\"wandb\"><tr><td>info</td><td>1</td></tr></table><br/></div></div>"
      ]
     },
     "metadata": {},
     "output_type": "display_data"
    },
    {
     "data": {
      "text/plain": [
       "<IPython.core.display.HTML object>"
      ],
      "text/html": [
       " View run <strong style=\"color:#cdcd00\">testing2</strong> at: <a href='https://wandb.ai/hy3134-rochester-institute-of-technology/unsuper/runs/1l1skfja' target=\"_blank\">https://wandb.ai/hy3134-rochester-institute-of-technology/unsuper/runs/1l1skfja</a><br/> View project at: <a href='https://wandb.ai/hy3134-rochester-institute-of-technology/unsuper' target=\"_blank\">https://wandb.ai/hy3134-rochester-institute-of-technology/unsuper</a><br/>Synced 6 W&B file(s), 0 media file(s), 3 artifact file(s) and 0 other file(s)"
      ]
     },
     "metadata": {},
     "output_type": "display_data"
    },
    {
     "data": {
      "text/plain": [
       "<IPython.core.display.HTML object>"
      ],
      "text/html": [
       "Find logs at: <code>.\\wandb\\run-20240716_163549-1l1skfja\\logs</code>"
      ]
     },
     "metadata": {},
     "output_type": "display_data"
    },
    {
     "data": {
      "text/plain": [
       "<IPython.core.display.HTML object>"
      ],
      "text/html": [
       "The new W&B backend becomes opt-out in version 0.18.0; try it out with `wandb.require(\"core\")`! See https://wandb.me/wandb-core for more information."
      ]
     },
     "metadata": {},
     "output_type": "display_data"
    }
   ],
   "execution_count": 8
  },
  {
   "metadata": {
    "ExecuteTime": {
     "end_time": "2024-07-10T18:30:19.220055Z",
     "start_time": "2024-07-10T18:30:19.038362Z"
    }
   },
   "cell_type": "code",
   "source": [
    "import pandas as pd \n",
    "\n",
    "\n",
    "# ds = tfds.load('cars196', split='train', shuffle_files=True)\n",
    "# \n",
    "\n",
    "for data in train_ds:\n",
    "    break \n",
    "    \n",
    "data['image']\n",
    "\n"
   ],
   "id": "89cb5bfd10a5cc47",
   "outputs": [
    {
     "data": {
      "text/plain": [
       "<tf.Tensor: shape=(64, 64, 3), dtype=uint8, numpy=\n",
       "array([[[ 70,  70,  70],\n",
       "        [ 76,  76,  76],\n",
       "        [ 80,  80,  80],\n",
       "        ...,\n",
       "        [ 46,  46,  46],\n",
       "        [ 42,  42,  42],\n",
       "        [ 41,  41,  41]],\n",
       "\n",
       "       [[ 67,  67,  67],\n",
       "        [ 67,  67,  67],\n",
       "        [ 67,  67,  67],\n",
       "        ...,\n",
       "        [ 50,  50,  50],\n",
       "        [ 46,  46,  46],\n",
       "        [ 42,  42,  42]],\n",
       "\n",
       "       [[ 59,  59,  59],\n",
       "        [ 56,  56,  56],\n",
       "        [ 55,  55,  55],\n",
       "        ...,\n",
       "        [ 53,  53,  53],\n",
       "        [ 50,  50,  50],\n",
       "        [ 45,  45,  45]],\n",
       "\n",
       "       ...,\n",
       "\n",
       "       [[ 82,  82,  82],\n",
       "        [ 78,  78,  78],\n",
       "        [ 71,  71,  71],\n",
       "        ...,\n",
       "        [ 75,  75,  75],\n",
       "        [ 57,  57,  57],\n",
       "        [ 44,  44,  44]],\n",
       "\n",
       "       [[ 77,  77,  77],\n",
       "        [ 77,  77,  77],\n",
       "        [ 79,  79,  79],\n",
       "        ...,\n",
       "        [ 92,  92,  92],\n",
       "        [ 75,  75,  75],\n",
       "        [ 59,  59,  59]],\n",
       "\n",
       "       [[ 77,  77,  77],\n",
       "        [ 74,  74,  74],\n",
       "        [ 76,  76,  76],\n",
       "        ...,\n",
       "        [108, 108, 108],\n",
       "        [ 99,  99,  99],\n",
       "        [ 82,  82,  82]]], dtype=uint8)>"
      ]
     },
     "execution_count": 3,
     "metadata": {},
     "output_type": "execute_result"
    }
   ],
   "execution_count": 3
  },
  {
   "metadata": {
    "ExecuteTime": {
     "end_time": "2024-07-10T18:34:55.908307Z",
     "start_time": "2024-07-10T18:34:55.895291Z"
    }
   },
   "cell_type": "code",
   "source": [
    "import matplotlib.pyplot as plt\n",
    "\n",
    "# plt.imshow(data['image'].numpy())\n",
    "\n",
    "\n",
    "data['label']"
   ],
   "id": "e4f4f479ca7a856",
   "outputs": [
    {
     "data": {
      "text/plain": [
       "<tf.Tensor: shape=(), dtype=int32, numpy=0>"
      ]
     },
     "execution_count": 10,
     "metadata": {},
     "output_type": "execute_result"
    }
   ],
   "execution_count": 10
  },
  {
   "metadata": {
    "ExecuteTime": {
     "end_time": "2024-07-10T18:34:39.638038Z",
     "start_time": "2024-07-10T18:34:39.624039Z"
    }
   },
   "cell_type": "code",
   "source": "# !pip install matplotlib",
   "id": "9bd7d6f5a8e4bde7",
   "outputs": [],
   "execution_count": 8
  },
  {
   "metadata": {
    "ExecuteTime": {
     "end_time": "2024-07-02T21:29:20.610235Z",
     "start_time": "2024-07-02T21:29:20.605209Z"
    }
   },
   "cell_type": "code",
   "source": "                 ",
   "id": "6399c7874997cd00",
   "outputs": [],
   "execution_count": 23
  }
 ],
 "metadata": {
  "kernelspec": {
   "display_name": "Python 3",
   "language": "python",
   "name": "python3"
  },
  "language_info": {
   "codemirror_mode": {
    "name": "ipython",
    "version": 2
   },
   "file_extension": ".py",
   "mimetype": "text/x-python",
   "name": "python",
   "nbconvert_exporter": "python",
   "pygments_lexer": "ipython2",
   "version": "2.7.6"
  }
 },
 "nbformat": 4,
 "nbformat_minor": 5
}
